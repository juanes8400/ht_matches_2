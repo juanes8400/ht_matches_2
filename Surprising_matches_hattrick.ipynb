{
  "nbformat": 4,
  "nbformat_minor": 0,
  "metadata": {
    "colab": {
      "name": "Surprising_matches_hattrick.ipynb",
      "provenance": [],
      "toc_visible": true
    },
    "kernelspec": {
      "name": "python3",
      "display_name": "Python 3"
    }
  },
  "cells": [
    {
      "cell_type": "markdown",
      "metadata": {
        "id": "fsG60HYZKB6a"
      },
      "source": [
        "First, we prepare the notebook with the necessary packages to develop our model"
      ]
    },
    {
      "cell_type": "code",
      "metadata": {
        "colab": {
          "base_uri": "https://localhost:8080/"
        },
        "id": "QwuR7Yi62-qB",
        "outputId": "759f58ca-702f-4362-f20f-baaa4e2c3bc9"
      },
      "source": [
        "%pylab inline"
      ],
      "execution_count": null,
      "outputs": [
        {
          "output_type": "stream",
          "text": [
            "Populating the interactive namespace from numpy and matplotlib\n"
          ],
          "name": "stdout"
        }
      ]
    },
    {
      "cell_type": "code",
      "metadata": {
        "id": "XF1FqpTp3xcQ"
      },
      "source": [
        "from sklearn.feature_selection import mutual_info_regression\r\n",
        "import pandas as pd\r\n",
        "import numpy as np\r\n",
        "import seaborn as sns"
      ],
      "execution_count": null,
      "outputs": []
    },
    {
      "cell_type": "markdown",
      "metadata": {
        "id": "lpi2a9JlbxWI"
      },
      "source": [
        "## Business Understanding\r\n",
        "From a point of view of a hattrick manager, is important to know beforehand the odds of his team winning the match given the ratings his team is capable of getting with his actual players.\r\n",
        "\r\n",
        "Why? Because what a hattrick user wants to do every sunday when he plays a league match is to maximize the likelihood of him getting a victory over his rival team.\r\n",
        "\r\n",
        "A hattrick user would like to calculate the possible outcome of his match so he can know which decisions to take.\r\n",
        "\r\n",
        "We, as data scientist, are eager to help him or her achieve this objetive. With the help of data science we might be able to calculate his/her (maybe our own) probability of winning.\r\n",
        "\r\n",
        "As stated in the forums and previoulsy spoken with hattrick users, the midfield rating is the most important single metric in a match.\r\n",
        "\r\n",
        "We will help hattrick managers who read this article solving these questions:\r\n",
        "* Hattrick user’s are good people, but we should not believe in their word just like that, so… Is midfield rating really the most important single metric in a match?\r\n",
        "* Can Data Science help us define a Surpring Match?\r\n",
        "What are the probabilities of winning given the ratings my team and the rival team have? (Information which they have beforehand)\r\n",
        "Are the ratios between rival ratings better as features than the ratings themselves?\r\n",
        "* How much of the odds depend solely on the midfield rating comparison (ratio)? In other words: How much do I control of the match’s odds by controlling the midfield only?\r\n",
        "* On the contrary: how much of the odds depend on anything but the midfield rating comparison (ratio)? In other words: How predictable would be a match if I ignored the midfield?\r\n",
        "* Sometimes, is inevitable to lose the midfield, what can a hattrick manager do if he/she loses the midfield rating ratio against his rival to increase his odds of winning the match?\r\n",
        "* Can I respond the former questions with easy-to-interpret models or should I lose explainability to get better metrics?"
      ]
    },
    {
      "cell_type": "markdown",
      "metadata": {
        "id": "-CTKdRG0GRul"
      },
      "source": [
        "## Gather\r\n",
        "The first part of the data science process is to gather the information of the dataset(s) you will need to make your analysis. This part is given the existence of a hattrick matches dataset which was obtained with other module"
      ]
    },
    {
      "cell_type": "code",
      "metadata": {
        "id": "rnTO4XyO3z8Q",
        "colab": {
          "base_uri": "https://localhost:8080/",
          "height": 360
        },
        "outputId": "092b45e8-bd8c-44d6-b4d3-4ccc8428fbed"
      },
      "source": [
        "# Read the dataset as a Pandas dataframe in memory\r\n",
        "# Note: here, we only read the first 100K rows. Other sampling options are available\r\n",
        "dataset_HT_Datos_prepared = pd.read_csv('/content/sample_data/Datos_HT.csv',sep=\";\")\r\n",
        "df = dataset_HT_Datos_prepared\r\n",
        "df.head()"
      ],
      "execution_count": 280,
      "outputs": [
        {
          "output_type": "execute_result",
          "data": {
            "text/html": [
              "<div>\n",
              "<style scoped>\n",
              "    .dataframe tbody tr th:only-of-type {\n",
              "        vertical-align: middle;\n",
              "    }\n",
              "\n",
              "    .dataframe tbody tr th {\n",
              "        vertical-align: top;\n",
              "    }\n",
              "\n",
              "    .dataframe thead th {\n",
              "        text-align: right;\n",
              "    }\n",
              "</style>\n",
              "<table border=\"1\" class=\"dataframe\">\n",
              "  <thead>\n",
              "    <tr style=\"text-align: right;\">\n",
              "      <th></th>\n",
              "      <th>MatchId</th>\n",
              "      <th>Home midfield</th>\n",
              "      <th>Away midfield</th>\n",
              "      <th>Home Right Defence</th>\n",
              "      <th>Away Right Defence</th>\n",
              "      <th>Home Central Defence</th>\n",
              "      <th>Away Central Defence</th>\n",
              "      <th>Home Left Defence</th>\n",
              "      <th>Away Left Defence</th>\n",
              "      <th>Home Right Attack</th>\n",
              "      <th>Away Right Attack</th>\n",
              "      <th>Home Central Attack</th>\n",
              "      <th>Away Central Attack</th>\n",
              "      <th>Home Left Attack</th>\n",
              "      <th>Away Left Attack</th>\n",
              "      <th>Home Indirect Defence</th>\n",
              "      <th>Away Indirect Defence</th>\n",
              "      <th>Home Indirect Attack</th>\n",
              "      <th>Away Indirect Attack</th>\n",
              "      <th>Home Attitude</th>\n",
              "      <th>Away Attitude</th>\n",
              "      <th>Home Tactic</th>\n",
              "      <th>Away Tactic</th>\n",
              "      <th>Home Tactic Level</th>\n",
              "      <th>Away Tactic Level</th>\n",
              "      <th>Home Goals</th>\n",
              "      <th>Away Goals</th>\n",
              "    </tr>\n",
              "  </thead>\n",
              "  <tbody>\n",
              "    <tr>\n",
              "      <th>0</th>\n",
              "      <td>631157390</td>\n",
              "      <td>12.0</td>\n",
              "      <td>6.0</td>\n",
              "      <td>14.0</td>\n",
              "      <td>7.0</td>\n",
              "      <td>18.0</td>\n",
              "      <td>7.0</td>\n",
              "      <td>17.0</td>\n",
              "      <td>5.0</td>\n",
              "      <td>7.0</td>\n",
              "      <td>8.0</td>\n",
              "      <td>5.0</td>\n",
              "      <td>9.0</td>\n",
              "      <td>6.0</td>\n",
              "      <td>6.0</td>\n",
              "      <td>15.0</td>\n",
              "      <td>9.0</td>\n",
              "      <td>14.0</td>\n",
              "      <td>10.0</td>\n",
              "      <td>(Hidden)</td>\n",
              "      <td>(Hidden)</td>\n",
              "      <td>Normal</td>\n",
              "      <td>Normal</td>\n",
              "      <td>(no tactic)</td>\n",
              "      <td>(no tactic)</td>\n",
              "      <td>8.0</td>\n",
              "      <td>0.0</td>\n",
              "    </tr>\n",
              "    <tr>\n",
              "      <th>1</th>\n",
              "      <td>631157391</td>\n",
              "      <td>5.0</td>\n",
              "      <td>4.0</td>\n",
              "      <td>5.0</td>\n",
              "      <td>5.0</td>\n",
              "      <td>5.0</td>\n",
              "      <td>7.0</td>\n",
              "      <td>6.0</td>\n",
              "      <td>6.0</td>\n",
              "      <td>6.0</td>\n",
              "      <td>6.0</td>\n",
              "      <td>6.0</td>\n",
              "      <td>5.0</td>\n",
              "      <td>8.0</td>\n",
              "      <td>6.0</td>\n",
              "      <td>6.0</td>\n",
              "      <td>8.0</td>\n",
              "      <td>7.0</td>\n",
              "      <td>9.0</td>\n",
              "      <td>(Hidden)</td>\n",
              "      <td>(Hidden)</td>\n",
              "      <td>Normal</td>\n",
              "      <td>Normal</td>\n",
              "      <td>(no tactic)</td>\n",
              "      <td>(no tactic)</td>\n",
              "      <td>3.0</td>\n",
              "      <td>2.0</td>\n",
              "    </tr>\n",
              "    <tr>\n",
              "      <th>2</th>\n",
              "      <td>631157392</td>\n",
              "      <td>4.0</td>\n",
              "      <td>3.0</td>\n",
              "      <td>4.0</td>\n",
              "      <td>6.0</td>\n",
              "      <td>7.0</td>\n",
              "      <td>6.0</td>\n",
              "      <td>8.0</td>\n",
              "      <td>3.0</td>\n",
              "      <td>7.0</td>\n",
              "      <td>7.0</td>\n",
              "      <td>6.0</td>\n",
              "      <td>5.0</td>\n",
              "      <td>5.0</td>\n",
              "      <td>7.0</td>\n",
              "      <td>8.0</td>\n",
              "      <td>7.0</td>\n",
              "      <td>9.0</td>\n",
              "      <td>8.0</td>\n",
              "      <td>(Hidden)</td>\n",
              "      <td>(Hidden)</td>\n",
              "      <td>Normal</td>\n",
              "      <td>Normal</td>\n",
              "      <td>(no tactic)</td>\n",
              "      <td>(no tactic)</td>\n",
              "      <td>4.0</td>\n",
              "      <td>2.0</td>\n",
              "    </tr>\n",
              "    <tr>\n",
              "      <th>3</th>\n",
              "      <td>631157393</td>\n",
              "      <td>7.0</td>\n",
              "      <td>11.0</td>\n",
              "      <td>7.0</td>\n",
              "      <td>16.0</td>\n",
              "      <td>7.0</td>\n",
              "      <td>17.0</td>\n",
              "      <td>5.0</td>\n",
              "      <td>17.0</td>\n",
              "      <td>8.0</td>\n",
              "      <td>16.0</td>\n",
              "      <td>9.0</td>\n",
              "      <td>7.0</td>\n",
              "      <td>6.0</td>\n",
              "      <td>20.0</td>\n",
              "      <td>9.0</td>\n",
              "      <td>16.0</td>\n",
              "      <td>10.0</td>\n",
              "      <td>16.0</td>\n",
              "      <td>(Hidden)</td>\n",
              "      <td>(Hidden)</td>\n",
              "      <td>Normal</td>\n",
              "      <td>Attack on wings</td>\n",
              "      <td>(no tactic)</td>\n",
              "      <td>6</td>\n",
              "      <td>1.0</td>\n",
              "      <td>8.0</td>\n",
              "    </tr>\n",
              "    <tr>\n",
              "      <th>4</th>\n",
              "      <td>631157394</td>\n",
              "      <td>15.0</td>\n",
              "      <td>4.0</td>\n",
              "      <td>27.0</td>\n",
              "      <td>4.0</td>\n",
              "      <td>29.0</td>\n",
              "      <td>7.0</td>\n",
              "      <td>25.0</td>\n",
              "      <td>7.0</td>\n",
              "      <td>11.0</td>\n",
              "      <td>7.0</td>\n",
              "      <td>10.0</td>\n",
              "      <td>6.0</td>\n",
              "      <td>13.0</td>\n",
              "      <td>5.0</td>\n",
              "      <td>19.0</td>\n",
              "      <td>8.0</td>\n",
              "      <td>17.0</td>\n",
              "      <td>9.0</td>\n",
              "      <td>(Hidden)</td>\n",
              "      <td>(Hidden)</td>\n",
              "      <td>Play creatively</td>\n",
              "      <td>Normal</td>\n",
              "      <td>13</td>\n",
              "      <td>(no tactic)</td>\n",
              "      <td>9.0</td>\n",
              "      <td>0.0</td>\n",
              "    </tr>\n",
              "  </tbody>\n",
              "</table>\n",
              "</div>"
            ],
            "text/plain": [
              "     MatchId  Home midfield  ...  Home Goals  Away Goals\n",
              "0  631157390           12.0  ...         8.0         0.0\n",
              "1  631157391            5.0  ...         3.0         2.0\n",
              "2  631157392            4.0  ...         4.0         2.0\n",
              "3  631157393            7.0  ...         1.0         8.0\n",
              "4  631157394           15.0  ...         9.0         0.0\n",
              "\n",
              "[5 rows x 27 columns]"
            ]
          },
          "metadata": {
            "tags": []
          },
          "execution_count": 280
        }
      ]
    },
    {
      "cell_type": "code",
      "metadata": {
        "id": "FR74VVpA5ngf"
      },
      "source": [
        "# The columns of the dataframe contain spaces ( ) which could difficult the\r\n",
        "# handling of the columns, we replace the spaces for underlines (_) \r\n",
        "df.columns = df.columns.str.replace(\" \",\"_\")"
      ],
      "execution_count": 281,
      "outputs": []
    },
    {
      "cell_type": "code",
      "metadata": {
        "id": "IHoez5-Y5q-F",
        "colab": {
          "base_uri": "https://localhost:8080/",
          "height": 258
        },
        "outputId": "65aa9c83-6a96-4bf1-b575-459ca24747b6"
      },
      "source": [
        "# Show the head of the read dataset\r\n",
        "df.head()"
      ],
      "execution_count": 282,
      "outputs": [
        {
          "output_type": "execute_result",
          "data": {
            "text/html": [
              "<div>\n",
              "<style scoped>\n",
              "    .dataframe tbody tr th:only-of-type {\n",
              "        vertical-align: middle;\n",
              "    }\n",
              "\n",
              "    .dataframe tbody tr th {\n",
              "        vertical-align: top;\n",
              "    }\n",
              "\n",
              "    .dataframe thead th {\n",
              "        text-align: right;\n",
              "    }\n",
              "</style>\n",
              "<table border=\"1\" class=\"dataframe\">\n",
              "  <thead>\n",
              "    <tr style=\"text-align: right;\">\n",
              "      <th></th>\n",
              "      <th>MatchId</th>\n",
              "      <th>Home_midfield</th>\n",
              "      <th>Away_midfield</th>\n",
              "      <th>Home_Right_Defence</th>\n",
              "      <th>Away_Right_Defence</th>\n",
              "      <th>Home_Central_Defence</th>\n",
              "      <th>Away_Central_Defence</th>\n",
              "      <th>Home_Left_Defence</th>\n",
              "      <th>Away_Left_Defence</th>\n",
              "      <th>Home_Right_Attack</th>\n",
              "      <th>Away_Right_Attack</th>\n",
              "      <th>Home_Central_Attack</th>\n",
              "      <th>Away_Central_Attack</th>\n",
              "      <th>Home_Left_Attack</th>\n",
              "      <th>Away_Left_Attack</th>\n",
              "      <th>Home_Indirect_Defence</th>\n",
              "      <th>Away_Indirect_Defence</th>\n",
              "      <th>Home_Indirect_Attack</th>\n",
              "      <th>Away_Indirect_Attack</th>\n",
              "      <th>Home_Attitude</th>\n",
              "      <th>Away_Attitude</th>\n",
              "      <th>Home_Tactic</th>\n",
              "      <th>Away_Tactic</th>\n",
              "      <th>Home_Tactic_Level</th>\n",
              "      <th>Away_Tactic_Level</th>\n",
              "      <th>Home_Goals</th>\n",
              "      <th>Away_Goals</th>\n",
              "    </tr>\n",
              "  </thead>\n",
              "  <tbody>\n",
              "    <tr>\n",
              "      <th>0</th>\n",
              "      <td>631157390</td>\n",
              "      <td>12.0</td>\n",
              "      <td>6.0</td>\n",
              "      <td>14.0</td>\n",
              "      <td>7.0</td>\n",
              "      <td>18.0</td>\n",
              "      <td>7.0</td>\n",
              "      <td>17.0</td>\n",
              "      <td>5.0</td>\n",
              "      <td>7.0</td>\n",
              "      <td>8.0</td>\n",
              "      <td>5.0</td>\n",
              "      <td>9.0</td>\n",
              "      <td>6.0</td>\n",
              "      <td>6.0</td>\n",
              "      <td>15.0</td>\n",
              "      <td>9.0</td>\n",
              "      <td>14.0</td>\n",
              "      <td>10.0</td>\n",
              "      <td>(Hidden)</td>\n",
              "      <td>(Hidden)</td>\n",
              "      <td>Normal</td>\n",
              "      <td>Normal</td>\n",
              "      <td>(no tactic)</td>\n",
              "      <td>(no tactic)</td>\n",
              "      <td>8.0</td>\n",
              "      <td>0.0</td>\n",
              "    </tr>\n",
              "    <tr>\n",
              "      <th>1</th>\n",
              "      <td>631157391</td>\n",
              "      <td>5.0</td>\n",
              "      <td>4.0</td>\n",
              "      <td>5.0</td>\n",
              "      <td>5.0</td>\n",
              "      <td>5.0</td>\n",
              "      <td>7.0</td>\n",
              "      <td>6.0</td>\n",
              "      <td>6.0</td>\n",
              "      <td>6.0</td>\n",
              "      <td>6.0</td>\n",
              "      <td>6.0</td>\n",
              "      <td>5.0</td>\n",
              "      <td>8.0</td>\n",
              "      <td>6.0</td>\n",
              "      <td>6.0</td>\n",
              "      <td>8.0</td>\n",
              "      <td>7.0</td>\n",
              "      <td>9.0</td>\n",
              "      <td>(Hidden)</td>\n",
              "      <td>(Hidden)</td>\n",
              "      <td>Normal</td>\n",
              "      <td>Normal</td>\n",
              "      <td>(no tactic)</td>\n",
              "      <td>(no tactic)</td>\n",
              "      <td>3.0</td>\n",
              "      <td>2.0</td>\n",
              "    </tr>\n",
              "    <tr>\n",
              "      <th>2</th>\n",
              "      <td>631157392</td>\n",
              "      <td>4.0</td>\n",
              "      <td>3.0</td>\n",
              "      <td>4.0</td>\n",
              "      <td>6.0</td>\n",
              "      <td>7.0</td>\n",
              "      <td>6.0</td>\n",
              "      <td>8.0</td>\n",
              "      <td>3.0</td>\n",
              "      <td>7.0</td>\n",
              "      <td>7.0</td>\n",
              "      <td>6.0</td>\n",
              "      <td>5.0</td>\n",
              "      <td>5.0</td>\n",
              "      <td>7.0</td>\n",
              "      <td>8.0</td>\n",
              "      <td>7.0</td>\n",
              "      <td>9.0</td>\n",
              "      <td>8.0</td>\n",
              "      <td>(Hidden)</td>\n",
              "      <td>(Hidden)</td>\n",
              "      <td>Normal</td>\n",
              "      <td>Normal</td>\n",
              "      <td>(no tactic)</td>\n",
              "      <td>(no tactic)</td>\n",
              "      <td>4.0</td>\n",
              "      <td>2.0</td>\n",
              "    </tr>\n",
              "    <tr>\n",
              "      <th>3</th>\n",
              "      <td>631157393</td>\n",
              "      <td>7.0</td>\n",
              "      <td>11.0</td>\n",
              "      <td>7.0</td>\n",
              "      <td>16.0</td>\n",
              "      <td>7.0</td>\n",
              "      <td>17.0</td>\n",
              "      <td>5.0</td>\n",
              "      <td>17.0</td>\n",
              "      <td>8.0</td>\n",
              "      <td>16.0</td>\n",
              "      <td>9.0</td>\n",
              "      <td>7.0</td>\n",
              "      <td>6.0</td>\n",
              "      <td>20.0</td>\n",
              "      <td>9.0</td>\n",
              "      <td>16.0</td>\n",
              "      <td>10.0</td>\n",
              "      <td>16.0</td>\n",
              "      <td>(Hidden)</td>\n",
              "      <td>(Hidden)</td>\n",
              "      <td>Normal</td>\n",
              "      <td>Attack on wings</td>\n",
              "      <td>(no tactic)</td>\n",
              "      <td>6</td>\n",
              "      <td>1.0</td>\n",
              "      <td>8.0</td>\n",
              "    </tr>\n",
              "    <tr>\n",
              "      <th>4</th>\n",
              "      <td>631157394</td>\n",
              "      <td>15.0</td>\n",
              "      <td>4.0</td>\n",
              "      <td>27.0</td>\n",
              "      <td>4.0</td>\n",
              "      <td>29.0</td>\n",
              "      <td>7.0</td>\n",
              "      <td>25.0</td>\n",
              "      <td>7.0</td>\n",
              "      <td>11.0</td>\n",
              "      <td>7.0</td>\n",
              "      <td>10.0</td>\n",
              "      <td>6.0</td>\n",
              "      <td>13.0</td>\n",
              "      <td>5.0</td>\n",
              "      <td>19.0</td>\n",
              "      <td>8.0</td>\n",
              "      <td>17.0</td>\n",
              "      <td>9.0</td>\n",
              "      <td>(Hidden)</td>\n",
              "      <td>(Hidden)</td>\n",
              "      <td>Play creatively</td>\n",
              "      <td>Normal</td>\n",
              "      <td>13</td>\n",
              "      <td>(no tactic)</td>\n",
              "      <td>9.0</td>\n",
              "      <td>0.0</td>\n",
              "    </tr>\n",
              "  </tbody>\n",
              "</table>\n",
              "</div>"
            ],
            "text/plain": [
              "     MatchId  Home_midfield  ...  Home_Goals  Away_Goals\n",
              "0  631157390           12.0  ...         8.0         0.0\n",
              "1  631157391            5.0  ...         3.0         2.0\n",
              "2  631157392            4.0  ...         4.0         2.0\n",
              "3  631157393            7.0  ...         1.0         8.0\n",
              "4  631157394           15.0  ...         9.0         0.0\n",
              "\n",
              "[5 rows x 27 columns]"
            ]
          },
          "metadata": {
            "tags": []
          },
          "execution_count": 282
        }
      ]
    },
    {
      "cell_type": "code",
      "metadata": {
        "id": "dHRrdwWx52Dr"
      },
      "source": [
        "# Definition of the Mutual Information\r\n",
        "def mi_score(X,y,discrete_features):\r\n",
        "    '''\r\n",
        "    Estimates the Mutual Information score between a list of exogenous variables\r\n",
        "    and an endogenous one.\r\n",
        "    @param X: The parameter X gets the dataframe with information of the exogenous\r\n",
        "     variables which we would like to obtain the Mutual Information Measure from\r\n",
        "    @param y: The dataframe with the Y column which the X variables will be\r\n",
        "     compared to.\r\n",
        "    @param discrete_features: List of booleans, \r\n",
        "    @return: A table with the list of MI scores by variable\r\n",
        "    '''\r\n",
        "    mi_scores = mutual_info_regression(X,y,discrete_features=discrete_features)\r\n",
        "    mi_scores = pd.Series(mi_scores,name=\"Mutual Info Scores\",index=X.columns)\r\n",
        "    mi_scores = mi_scores.sort_values(ascending=False)\r\n",
        "    return(mi_scores)"
      ],
      "execution_count": 283,
      "outputs": []
    },
    {
      "cell_type": "markdown",
      "metadata": {
        "id": "JNaV3lx9cQrR"
      },
      "source": [
        "# Data Understanding\r\n",
        "Next, we will fill find a description of the dataset in which we will work"
      ]
    },
    {
      "cell_type": "markdown",
      "metadata": {
        "id": "65_DIvCnGk87"
      },
      "source": [
        "## Assess\r\n",
        "After getting the dataset, the first part we, as data scientists, should complete is a description of the data we will be working on, metrics such as n, mean, standard deviation, minimum, percentiles and maximum can make a good approach to the data distribution"
      ]
    },
    {
      "cell_type": "code",
      "metadata": {
        "id": "br3yArNB5-Yh",
        "colab": {
          "base_uri": "https://localhost:8080/",
          "height": 317
        },
        "outputId": "1cf2be7a-e009-4a09-a933-bcc911cfd15e"
      },
      "source": [
        "df.describe()"
      ],
      "execution_count": 284,
      "outputs": [
        {
          "output_type": "execute_result",
          "data": {
            "text/html": [
              "<div>\n",
              "<style scoped>\n",
              "    .dataframe tbody tr th:only-of-type {\n",
              "        vertical-align: middle;\n",
              "    }\n",
              "\n",
              "    .dataframe tbody tr th {\n",
              "        vertical-align: top;\n",
              "    }\n",
              "\n",
              "    .dataframe thead th {\n",
              "        text-align: right;\n",
              "    }\n",
              "</style>\n",
              "<table border=\"1\" class=\"dataframe\">\n",
              "  <thead>\n",
              "    <tr style=\"text-align: right;\">\n",
              "      <th></th>\n",
              "      <th>MatchId</th>\n",
              "      <th>Home_midfield</th>\n",
              "      <th>Away_midfield</th>\n",
              "      <th>Home_Right_Defence</th>\n",
              "      <th>Away_Right_Defence</th>\n",
              "      <th>Home_Central_Defence</th>\n",
              "      <th>Away_Central_Defence</th>\n",
              "      <th>Home_Left_Defence</th>\n",
              "      <th>Away_Left_Defence</th>\n",
              "      <th>Home_Right_Attack</th>\n",
              "      <th>Away_Right_Attack</th>\n",
              "      <th>Home_Central_Attack</th>\n",
              "      <th>Away_Central_Attack</th>\n",
              "      <th>Home_Left_Attack</th>\n",
              "      <th>Away_Left_Attack</th>\n",
              "      <th>Home_Indirect_Defence</th>\n",
              "      <th>Away_Indirect_Defence</th>\n",
              "      <th>Home_Indirect_Attack</th>\n",
              "      <th>Away_Indirect_Attack</th>\n",
              "      <th>Home_Goals</th>\n",
              "      <th>Away_Goals</th>\n",
              "    </tr>\n",
              "  </thead>\n",
              "  <tbody>\n",
              "    <tr>\n",
              "      <th>count</th>\n",
              "      <td>6.193000e+03</td>\n",
              "      <td>6179.000000</td>\n",
              "      <td>6179.000000</td>\n",
              "      <td>6179.000000</td>\n",
              "      <td>6179.000000</td>\n",
              "      <td>6179.000000</td>\n",
              "      <td>6179.000000</td>\n",
              "      <td>6179.000000</td>\n",
              "      <td>6179.000000</td>\n",
              "      <td>6179.000000</td>\n",
              "      <td>6179.000000</td>\n",
              "      <td>6179.000000</td>\n",
              "      <td>6179.000000</td>\n",
              "      <td>6179.000000</td>\n",
              "      <td>6179.000000</td>\n",
              "      <td>6179.000000</td>\n",
              "      <td>6179.000000</td>\n",
              "      <td>6179.000000</td>\n",
              "      <td>6179.000000</td>\n",
              "      <td>6179.000000</td>\n",
              "      <td>6179.000000</td>\n",
              "    </tr>\n",
              "    <tr>\n",
              "      <th>mean</th>\n",
              "      <td>6.311605e+08</td>\n",
              "      <td>15.068296</td>\n",
              "      <td>12.704321</td>\n",
              "      <td>19.643146</td>\n",
              "      <td>19.672439</td>\n",
              "      <td>22.904030</td>\n",
              "      <td>23.022496</td>\n",
              "      <td>19.815990</td>\n",
              "      <td>19.861304</td>\n",
              "      <td>14.485515</td>\n",
              "      <td>14.638129</td>\n",
              "      <td>15.589739</td>\n",
              "      <td>15.557695</td>\n",
              "      <td>14.581971</td>\n",
              "      <td>14.723418</td>\n",
              "      <td>17.101311</td>\n",
              "      <td>17.094190</td>\n",
              "      <td>15.413335</td>\n",
              "      <td>15.359281</td>\n",
              "      <td>3.253763</td>\n",
              "      <td>2.837190</td>\n",
              "    </tr>\n",
              "    <tr>\n",
              "      <th>std</th>\n",
              "      <td>1.789380e+03</td>\n",
              "      <td>14.024289</td>\n",
              "      <td>11.714824</td>\n",
              "      <td>17.411433</td>\n",
              "      <td>17.651527</td>\n",
              "      <td>18.916414</td>\n",
              "      <td>19.290305</td>\n",
              "      <td>17.418551</td>\n",
              "      <td>17.666702</td>\n",
              "      <td>13.343614</td>\n",
              "      <td>13.297508</td>\n",
              "      <td>14.306902</td>\n",
              "      <td>13.975978</td>\n",
              "      <td>13.320350</td>\n",
              "      <td>13.271881</td>\n",
              "      <td>11.550252</td>\n",
              "      <td>11.572713</td>\n",
              "      <td>9.042348</td>\n",
              "      <td>8.974050</td>\n",
              "      <td>3.252066</td>\n",
              "      <td>3.229994</td>\n",
              "    </tr>\n",
              "    <tr>\n",
              "      <th>min</th>\n",
              "      <td>6.311574e+08</td>\n",
              "      <td>0.000000</td>\n",
              "      <td>0.000000</td>\n",
              "      <td>0.000000</td>\n",
              "      <td>0.000000</td>\n",
              "      <td>0.000000</td>\n",
              "      <td>0.000000</td>\n",
              "      <td>0.000000</td>\n",
              "      <td>0.000000</td>\n",
              "      <td>0.000000</td>\n",
              "      <td>0.000000</td>\n",
              "      <td>0.000000</td>\n",
              "      <td>0.000000</td>\n",
              "      <td>0.000000</td>\n",
              "      <td>0.000000</td>\n",
              "      <td>0.000000</td>\n",
              "      <td>0.000000</td>\n",
              "      <td>0.000000</td>\n",
              "      <td>0.000000</td>\n",
              "      <td>0.000000</td>\n",
              "      <td>0.000000</td>\n",
              "    </tr>\n",
              "    <tr>\n",
              "      <th>25%</th>\n",
              "      <td>6.311589e+08</td>\n",
              "      <td>5.000000</td>\n",
              "      <td>4.000000</td>\n",
              "      <td>6.000000</td>\n",
              "      <td>6.000000</td>\n",
              "      <td>7.000000</td>\n",
              "      <td>7.000000</td>\n",
              "      <td>6.000000</td>\n",
              "      <td>6.000000</td>\n",
              "      <td>5.000000</td>\n",
              "      <td>5.000000</td>\n",
              "      <td>5.000000</td>\n",
              "      <td>5.000000</td>\n",
              "      <td>5.000000</td>\n",
              "      <td>5.000000</td>\n",
              "      <td>8.000000</td>\n",
              "      <td>8.000000</td>\n",
              "      <td>8.000000</td>\n",
              "      <td>8.000000</td>\n",
              "      <td>0.000000</td>\n",
              "      <td>0.000000</td>\n",
              "    </tr>\n",
              "    <tr>\n",
              "      <th>50%</th>\n",
              "      <td>6.311605e+08</td>\n",
              "      <td>10.000000</td>\n",
              "      <td>8.000000</td>\n",
              "      <td>12.000000</td>\n",
              "      <td>12.000000</td>\n",
              "      <td>16.000000</td>\n",
              "      <td>16.000000</td>\n",
              "      <td>14.000000</td>\n",
              "      <td>14.000000</td>\n",
              "      <td>9.000000</td>\n",
              "      <td>9.000000</td>\n",
              "      <td>9.000000</td>\n",
              "      <td>9.000000</td>\n",
              "      <td>9.000000</td>\n",
              "      <td>9.000000</td>\n",
              "      <td>15.000000</td>\n",
              "      <td>15.000000</td>\n",
              "      <td>14.000000</td>\n",
              "      <td>14.000000</td>\n",
              "      <td>2.000000</td>\n",
              "      <td>2.000000</td>\n",
              "    </tr>\n",
              "    <tr>\n",
              "      <th>75%</th>\n",
              "      <td>6.311620e+08</td>\n",
              "      <td>20.000000</td>\n",
              "      <td>17.000000</td>\n",
              "      <td>30.000000</td>\n",
              "      <td>29.000000</td>\n",
              "      <td>37.000000</td>\n",
              "      <td>37.000000</td>\n",
              "      <td>30.000000</td>\n",
              "      <td>30.000000</td>\n",
              "      <td>19.000000</td>\n",
              "      <td>19.000000</td>\n",
              "      <td>23.000000</td>\n",
              "      <td>23.000000</td>\n",
              "      <td>19.000000</td>\n",
              "      <td>20.000000</td>\n",
              "      <td>24.000000</td>\n",
              "      <td>23.500000</td>\n",
              "      <td>20.000000</td>\n",
              "      <td>20.000000</td>\n",
              "      <td>5.000000</td>\n",
              "      <td>5.000000</td>\n",
              "    </tr>\n",
              "    <tr>\n",
              "      <th>max</th>\n",
              "      <td>6.311636e+08</td>\n",
              "      <td>81.000000</td>\n",
              "      <td>68.000000</td>\n",
              "      <td>101.000000</td>\n",
              "      <td>94.000000</td>\n",
              "      <td>117.000000</td>\n",
              "      <td>109.000000</td>\n",
              "      <td>104.000000</td>\n",
              "      <td>97.000000</td>\n",
              "      <td>76.000000</td>\n",
              "      <td>85.000000</td>\n",
              "      <td>92.000000</td>\n",
              "      <td>86.000000</td>\n",
              "      <td>76.000000</td>\n",
              "      <td>78.000000</td>\n",
              "      <td>62.000000</td>\n",
              "      <td>60.000000</td>\n",
              "      <td>57.000000</td>\n",
              "      <td>57.000000</td>\n",
              "      <td>13.000000</td>\n",
              "      <td>13.000000</td>\n",
              "    </tr>\n",
              "  </tbody>\n",
              "</table>\n",
              "</div>"
            ],
            "text/plain": [
              "            MatchId  Home_midfield  ...   Home_Goals   Away_Goals\n",
              "count  6.193000e+03    6179.000000  ...  6179.000000  6179.000000\n",
              "mean   6.311605e+08      15.068296  ...     3.253763     2.837190\n",
              "std    1.789380e+03      14.024289  ...     3.252066     3.229994\n",
              "min    6.311574e+08       0.000000  ...     0.000000     0.000000\n",
              "25%    6.311589e+08       5.000000  ...     0.000000     0.000000\n",
              "50%    6.311605e+08      10.000000  ...     2.000000     2.000000\n",
              "75%    6.311620e+08      20.000000  ...     5.000000     5.000000\n",
              "max    6.311636e+08      81.000000  ...    13.000000    13.000000\n",
              "\n",
              "[8 rows x 21 columns]"
            ]
          },
          "metadata": {
            "tags": []
          },
          "execution_count": 284
        }
      ]
    },
    {
      "cell_type": "markdown",
      "metadata": {
        "id": "IfZY5Vbkcjpe"
      },
      "source": [
        "# Data Preparation\r\n",
        "The preparation process consists in a simple cleaning process which will allow us to have the information prepared to measure the Mutual Information index"
      ]
    },
    {
      "cell_type": "markdown",
      "metadata": {
        "id": "iba62G8iHSab"
      },
      "source": [
        "## Clean\r\n",
        "For this project, the clean process is very simple: Elimination of some cases badly read, creation of new variables and the handling of some columns such as ID"
      ]
    },
    {
      "cell_type": "code",
      "metadata": {
        "id": "8IlNIczN6MUs"
      },
      "source": [
        "# Creation of the Y variable defined as 1 if the Home team wins, 0 otherwise\r\n",
        "df.loc[df.loc[:,'Home_Goals']>df.loc[:,'Away_Goals'],'Home_team_victory'] = 1\r\n",
        "df.loc[df.loc[:,'Home_Goals']<=df.loc[:,'Away_Goals'],'Home_team_victory'] = 0\r\n",
        "\r\n",
        "# Some matches were not correctly read, this line corrects it\r\n",
        "df = df[(df['Home_midfield']>0) & (df['Away_midfield']>0)]"
      ],
      "execution_count": 285,
      "outputs": []
    },
    {
      "cell_type": "code",
      "metadata": {
        "id": "PTOQgnrc6Xyo"
      },
      "source": [
        "# MatchId is an ID column, which does not add information to the model\r\n",
        "# Home Goals & Away Goals are variables which form the Y variable, for which can not be used to model\r\n",
        "# Home Attitude & Away Attitude are columns that cannot be read for anyone different to the owner\r\n",
        "df=df.loc[:,~df.columns.isin([\"MatchId\",\"Home_Goals\",\"Away_Goals\",\"Home_Attitude\",\"Away_Attitude\"])].replace(\"(no tactic)\",np.NaN).fillna(0)\r\n",
        "\r\n",
        "dfa = df #dfa is created to copy df without the changes for further analysis\r\n",
        "\r\n",
        "df[['Home_Tactic_Level','Away_Tactic_Level']] = df[['Home_Tactic_Level','Away_Tactic_Level']].apply(pd.to_numeric,errors='coerce')\r\n",
        "df=pd.get_dummies(df,columns=[\"Home_Tactic\",\"Away_Tactic\"]) # Converts the Tactics to dummy to be handled as numeric variables"
      ],
      "execution_count": 286,
      "outputs": []
    },
    {
      "cell_type": "code",
      "metadata": {
        "id": "NG6dYdI4roTF",
        "colab": {
          "base_uri": "https://localhost:8080/",
          "height": 334
        },
        "outputId": "b0a18e44-0070-455f-867b-22d7189a24a8"
      },
      "source": [
        "df.describe()"
      ],
      "execution_count": 287,
      "outputs": [
        {
          "output_type": "execute_result",
          "data": {
            "text/html": [
              "<div>\n",
              "<style scoped>\n",
              "    .dataframe tbody tr th:only-of-type {\n",
              "        vertical-align: middle;\n",
              "    }\n",
              "\n",
              "    .dataframe tbody tr th {\n",
              "        vertical-align: top;\n",
              "    }\n",
              "\n",
              "    .dataframe thead th {\n",
              "        text-align: right;\n",
              "    }\n",
              "</style>\n",
              "<table border=\"1\" class=\"dataframe\">\n",
              "  <thead>\n",
              "    <tr style=\"text-align: right;\">\n",
              "      <th></th>\n",
              "      <th>Home_midfield</th>\n",
              "      <th>Away_midfield</th>\n",
              "      <th>Home_Right_Defence</th>\n",
              "      <th>Away_Right_Defence</th>\n",
              "      <th>Home_Central_Defence</th>\n",
              "      <th>Away_Central_Defence</th>\n",
              "      <th>Home_Left_Defence</th>\n",
              "      <th>Away_Left_Defence</th>\n",
              "      <th>Home_Right_Attack</th>\n",
              "      <th>Away_Right_Attack</th>\n",
              "      <th>Home_Central_Attack</th>\n",
              "      <th>Away_Central_Attack</th>\n",
              "      <th>Home_Left_Attack</th>\n",
              "      <th>Away_Left_Attack</th>\n",
              "      <th>Home_Indirect_Defence</th>\n",
              "      <th>Away_Indirect_Defence</th>\n",
              "      <th>Home_Indirect_Attack</th>\n",
              "      <th>Away_Indirect_Attack</th>\n",
              "      <th>Home_Tactic_Level</th>\n",
              "      <th>Away_Tactic_Level</th>\n",
              "      <th>Home_team_victory</th>\n",
              "      <th>Home_Tactic_Attack in the Middle</th>\n",
              "      <th>Home_Tactic_Attack on wings</th>\n",
              "      <th>Home_Tactic_Counter-attacks</th>\n",
              "      <th>Home_Tactic_Long shots</th>\n",
              "      <th>Home_Tactic_Normal</th>\n",
              "      <th>Home_Tactic_Play creatively</th>\n",
              "      <th>Home_Tactic_Pressing</th>\n",
              "      <th>Away_Tactic_Attack in the Middle</th>\n",
              "      <th>Away_Tactic_Attack on wings</th>\n",
              "      <th>Away_Tactic_Counter-attacks</th>\n",
              "      <th>Away_Tactic_Long shots</th>\n",
              "      <th>Away_Tactic_Normal</th>\n",
              "      <th>Away_Tactic_Play creatively</th>\n",
              "      <th>Away_Tactic_Pressing</th>\n",
              "    </tr>\n",
              "  </thead>\n",
              "  <tbody>\n",
              "    <tr>\n",
              "      <th>count</th>\n",
              "      <td>6017.000000</td>\n",
              "      <td>6017.000000</td>\n",
              "      <td>6017.000000</td>\n",
              "      <td>6017.000000</td>\n",
              "      <td>6017.000000</td>\n",
              "      <td>6017.000000</td>\n",
              "      <td>6017.000000</td>\n",
              "      <td>6017.000000</td>\n",
              "      <td>6017.000000</td>\n",
              "      <td>6017.000000</td>\n",
              "      <td>6017.000000</td>\n",
              "      <td>6017.000000</td>\n",
              "      <td>6017.000000</td>\n",
              "      <td>6017.000000</td>\n",
              "      <td>6017.000000</td>\n",
              "      <td>6017.000000</td>\n",
              "      <td>6017.000000</td>\n",
              "      <td>6017.000000</td>\n",
              "      <td>6017.000000</td>\n",
              "      <td>6017.000000</td>\n",
              "      <td>6017.000000</td>\n",
              "      <td>6017.000000</td>\n",
              "      <td>6017.000000</td>\n",
              "      <td>6017.000000</td>\n",
              "      <td>6017.000000</td>\n",
              "      <td>6017.000000</td>\n",
              "      <td>6017.000000</td>\n",
              "      <td>6017.000000</td>\n",
              "      <td>6017.000000</td>\n",
              "      <td>6017.000000</td>\n",
              "      <td>6017.000000</td>\n",
              "      <td>6017.000000</td>\n",
              "      <td>6017.000000</td>\n",
              "      <td>6017.000000</td>\n",
              "      <td>6017.000000</td>\n",
              "    </tr>\n",
              "    <tr>\n",
              "      <th>mean</th>\n",
              "      <td>15.473990</td>\n",
              "      <td>13.046369</td>\n",
              "      <td>20.172013</td>\n",
              "      <td>20.202094</td>\n",
              "      <td>23.520691</td>\n",
              "      <td>23.642347</td>\n",
              "      <td>20.349510</td>\n",
              "      <td>20.396045</td>\n",
              "      <td>14.875519</td>\n",
              "      <td>15.032242</td>\n",
              "      <td>16.009473</td>\n",
              "      <td>15.976566</td>\n",
              "      <td>14.974572</td>\n",
              "      <td>15.119827</td>\n",
              "      <td>17.561742</td>\n",
              "      <td>17.554429</td>\n",
              "      <td>15.828320</td>\n",
              "      <td>15.772810</td>\n",
              "      <td>3.609440</td>\n",
              "      <td>3.888815</td>\n",
              "      <td>0.516370</td>\n",
              "      <td>0.063985</td>\n",
              "      <td>0.087585</td>\n",
              "      <td>0.047200</td>\n",
              "      <td>0.008144</td>\n",
              "      <td>0.727439</td>\n",
              "      <td>0.049360</td>\n",
              "      <td>0.016287</td>\n",
              "      <td>0.060994</td>\n",
              "      <td>0.084926</td>\n",
              "      <td>0.071132</td>\n",
              "      <td>0.008144</td>\n",
              "      <td>0.706997</td>\n",
              "      <td>0.047864</td>\n",
              "      <td>0.019943</td>\n",
              "    </tr>\n",
              "    <tr>\n",
              "      <th>std</th>\n",
              "      <td>13.989216</td>\n",
              "      <td>11.682013</td>\n",
              "      <td>17.339303</td>\n",
              "      <td>17.585922</td>\n",
              "      <td>18.787222</td>\n",
              "      <td>19.169745</td>\n",
              "      <td>17.341206</td>\n",
              "      <td>17.595698</td>\n",
              "      <td>13.305795</td>\n",
              "      <td>13.253674</td>\n",
              "      <td>14.264588</td>\n",
              "      <td>13.924603</td>\n",
              "      <td>13.278917</td>\n",
              "      <td>13.224651</td>\n",
              "      <td>11.354006</td>\n",
              "      <td>11.377765</td>\n",
              "      <td>8.797512</td>\n",
              "      <td>8.728035</td>\n",
              "      <td>6.354397</td>\n",
              "      <td>6.496017</td>\n",
              "      <td>0.499773</td>\n",
              "      <td>0.244747</td>\n",
              "      <td>0.282714</td>\n",
              "      <td>0.212083</td>\n",
              "      <td>0.089881</td>\n",
              "      <td>0.445314</td>\n",
              "      <td>0.216637</td>\n",
              "      <td>0.126588</td>\n",
              "      <td>0.239339</td>\n",
              "      <td>0.278795</td>\n",
              "      <td>0.257066</td>\n",
              "      <td>0.089881</td>\n",
              "      <td>0.455178</td>\n",
              "      <td>0.213497</td>\n",
              "      <td>0.139818</td>\n",
              "    </tr>\n",
              "    <tr>\n",
              "      <th>min</th>\n",
              "      <td>2.000000</td>\n",
              "      <td>2.000000</td>\n",
              "      <td>3.000000</td>\n",
              "      <td>3.000000</td>\n",
              "      <td>4.000000</td>\n",
              "      <td>4.000000</td>\n",
              "      <td>2.000000</td>\n",
              "      <td>3.000000</td>\n",
              "      <td>1.000000</td>\n",
              "      <td>1.000000</td>\n",
              "      <td>2.000000</td>\n",
              "      <td>2.000000</td>\n",
              "      <td>2.000000</td>\n",
              "      <td>1.000000</td>\n",
              "      <td>5.000000</td>\n",
              "      <td>5.000000</td>\n",
              "      <td>5.000000</td>\n",
              "      <td>5.000000</td>\n",
              "      <td>0.000000</td>\n",
              "      <td>0.000000</td>\n",
              "      <td>0.000000</td>\n",
              "      <td>0.000000</td>\n",
              "      <td>0.000000</td>\n",
              "      <td>0.000000</td>\n",
              "      <td>0.000000</td>\n",
              "      <td>0.000000</td>\n",
              "      <td>0.000000</td>\n",
              "      <td>0.000000</td>\n",
              "      <td>0.000000</td>\n",
              "      <td>0.000000</td>\n",
              "      <td>0.000000</td>\n",
              "      <td>0.000000</td>\n",
              "      <td>0.000000</td>\n",
              "      <td>0.000000</td>\n",
              "      <td>0.000000</td>\n",
              "    </tr>\n",
              "    <tr>\n",
              "      <th>25%</th>\n",
              "      <td>5.000000</td>\n",
              "      <td>4.000000</td>\n",
              "      <td>6.000000</td>\n",
              "      <td>6.000000</td>\n",
              "      <td>7.000000</td>\n",
              "      <td>7.000000</td>\n",
              "      <td>6.000000</td>\n",
              "      <td>6.000000</td>\n",
              "      <td>5.000000</td>\n",
              "      <td>5.000000</td>\n",
              "      <td>5.000000</td>\n",
              "      <td>5.000000</td>\n",
              "      <td>5.000000</td>\n",
              "      <td>6.000000</td>\n",
              "      <td>8.000000</td>\n",
              "      <td>8.000000</td>\n",
              "      <td>9.000000</td>\n",
              "      <td>9.000000</td>\n",
              "      <td>0.000000</td>\n",
              "      <td>0.000000</td>\n",
              "      <td>0.000000</td>\n",
              "      <td>0.000000</td>\n",
              "      <td>0.000000</td>\n",
              "      <td>0.000000</td>\n",
              "      <td>0.000000</td>\n",
              "      <td>0.000000</td>\n",
              "      <td>0.000000</td>\n",
              "      <td>0.000000</td>\n",
              "      <td>0.000000</td>\n",
              "      <td>0.000000</td>\n",
              "      <td>0.000000</td>\n",
              "      <td>0.000000</td>\n",
              "      <td>0.000000</td>\n",
              "      <td>0.000000</td>\n",
              "      <td>0.000000</td>\n",
              "    </tr>\n",
              "    <tr>\n",
              "      <th>50%</th>\n",
              "      <td>11.000000</td>\n",
              "      <td>9.000000</td>\n",
              "      <td>13.000000</td>\n",
              "      <td>13.000000</td>\n",
              "      <td>18.000000</td>\n",
              "      <td>18.000000</td>\n",
              "      <td>15.000000</td>\n",
              "      <td>15.000000</td>\n",
              "      <td>9.000000</td>\n",
              "      <td>9.000000</td>\n",
              "      <td>9.000000</td>\n",
              "      <td>9.000000</td>\n",
              "      <td>9.000000</td>\n",
              "      <td>9.000000</td>\n",
              "      <td>16.000000</td>\n",
              "      <td>16.000000</td>\n",
              "      <td>14.000000</td>\n",
              "      <td>14.000000</td>\n",
              "      <td>0.000000</td>\n",
              "      <td>0.000000</td>\n",
              "      <td>1.000000</td>\n",
              "      <td>0.000000</td>\n",
              "      <td>0.000000</td>\n",
              "      <td>0.000000</td>\n",
              "      <td>0.000000</td>\n",
              "      <td>1.000000</td>\n",
              "      <td>0.000000</td>\n",
              "      <td>0.000000</td>\n",
              "      <td>0.000000</td>\n",
              "      <td>0.000000</td>\n",
              "      <td>0.000000</td>\n",
              "      <td>0.000000</td>\n",
              "      <td>1.000000</td>\n",
              "      <td>0.000000</td>\n",
              "      <td>0.000000</td>\n",
              "    </tr>\n",
              "    <tr>\n",
              "      <th>75%</th>\n",
              "      <td>20.000000</td>\n",
              "      <td>18.000000</td>\n",
              "      <td>30.000000</td>\n",
              "      <td>30.000000</td>\n",
              "      <td>37.000000</td>\n",
              "      <td>37.000000</td>\n",
              "      <td>30.000000</td>\n",
              "      <td>30.000000</td>\n",
              "      <td>19.000000</td>\n",
              "      <td>20.000000</td>\n",
              "      <td>23.000000</td>\n",
              "      <td>23.000000</td>\n",
              "      <td>20.000000</td>\n",
              "      <td>20.000000</td>\n",
              "      <td>24.000000</td>\n",
              "      <td>24.000000</td>\n",
              "      <td>21.000000</td>\n",
              "      <td>21.000000</td>\n",
              "      <td>8.000000</td>\n",
              "      <td>9.000000</td>\n",
              "      <td>1.000000</td>\n",
              "      <td>0.000000</td>\n",
              "      <td>0.000000</td>\n",
              "      <td>0.000000</td>\n",
              "      <td>0.000000</td>\n",
              "      <td>1.000000</td>\n",
              "      <td>0.000000</td>\n",
              "      <td>0.000000</td>\n",
              "      <td>0.000000</td>\n",
              "      <td>0.000000</td>\n",
              "      <td>0.000000</td>\n",
              "      <td>0.000000</td>\n",
              "      <td>1.000000</td>\n",
              "      <td>0.000000</td>\n",
              "      <td>0.000000</td>\n",
              "    </tr>\n",
              "    <tr>\n",
              "      <th>max</th>\n",
              "      <td>81.000000</td>\n",
              "      <td>68.000000</td>\n",
              "      <td>101.000000</td>\n",
              "      <td>94.000000</td>\n",
              "      <td>117.000000</td>\n",
              "      <td>109.000000</td>\n",
              "      <td>104.000000</td>\n",
              "      <td>97.000000</td>\n",
              "      <td>76.000000</td>\n",
              "      <td>85.000000</td>\n",
              "      <td>92.000000</td>\n",
              "      <td>86.000000</td>\n",
              "      <td>76.000000</td>\n",
              "      <td>78.000000</td>\n",
              "      <td>62.000000</td>\n",
              "      <td>60.000000</td>\n",
              "      <td>57.000000</td>\n",
              "      <td>57.000000</td>\n",
              "      <td>33.000000</td>\n",
              "      <td>32.000000</td>\n",
              "      <td>1.000000</td>\n",
              "      <td>1.000000</td>\n",
              "      <td>1.000000</td>\n",
              "      <td>1.000000</td>\n",
              "      <td>1.000000</td>\n",
              "      <td>1.000000</td>\n",
              "      <td>1.000000</td>\n",
              "      <td>1.000000</td>\n",
              "      <td>1.000000</td>\n",
              "      <td>1.000000</td>\n",
              "      <td>1.000000</td>\n",
              "      <td>1.000000</td>\n",
              "      <td>1.000000</td>\n",
              "      <td>1.000000</td>\n",
              "      <td>1.000000</td>\n",
              "    </tr>\n",
              "  </tbody>\n",
              "</table>\n",
              "</div>"
            ],
            "text/plain": [
              "       Home_midfield  ...  Away_Tactic_Pressing\n",
              "count    6017.000000  ...           6017.000000\n",
              "mean       15.473990  ...              0.019943\n",
              "std        13.989216  ...              0.139818\n",
              "min         2.000000  ...              0.000000\n",
              "25%         5.000000  ...              0.000000\n",
              "50%        11.000000  ...              0.000000\n",
              "75%        20.000000  ...              0.000000\n",
              "max        81.000000  ...              1.000000\n",
              "\n",
              "[8 rows x 35 columns]"
            ]
          },
          "metadata": {
            "tags": []
          },
          "execution_count": 287
        }
      ]
    },
    {
      "cell_type": "markdown",
      "metadata": {
        "id": "j8ClZ7t-cxE_"
      },
      "source": [
        "# Modelling\r\n",
        "We prepared a function to measure the Information Index, this function works on any dataset"
      ]
    },
    {
      "cell_type": "markdown",
      "metadata": {
        "id": "WQyUuFOqH_0J"
      },
      "source": [
        "## Analyze\r\n",
        "With the help of functions as Mutual Information, the relationship between exogenous and endogenous variables can be measured"
      ]
    },
    {
      "cell_type": "code",
      "metadata": {
        "id": "v4FXr_7Z6oEp"
      },
      "source": [
        "scor=mi_score(df.loc[:,~df.columns.isin([\"Home_team_victory\"])],df.Home_team_victory,discrete_features=True) #Apply MI_Score to the df"
      ],
      "execution_count": null,
      "outputs": []
    },
    {
      "cell_type": "markdown",
      "metadata": {
        "id": "4lMrT3x7ITXD"
      },
      "source": [
        "# Model\r\n",
        "With the help of the plots of Mutual information scores, we proceed to measure and plot the relationship between X's & the Y"
      ]
    },
    {
      "cell_type": "code",
      "metadata": {
        "id": "lPLqN63F6o_l"
      },
      "source": [
        "def plot_mi_scores(scores):\r\n",
        "    '''\r\n",
        "    Plot Mutual Information Scores obtained\r\n",
        "    @param scores: MI Scores previously obtained\r\n",
        "    @return: Plot\r\n",
        "    '''\r\n",
        "    scores = scores.sort_values(ascending=True)\r\n",
        "    width = np.arange(len(scores))\r\n",
        "    ticks = list(scores.index)\r\n",
        "    plt.barh(width, scores)\r\n",
        "    plt.yticks(width, ticks)\r\n",
        "    plt.title(\"Mutual Information Scores\")"
      ],
      "execution_count": null,
      "outputs": []
    },
    {
      "cell_type": "markdown",
      "metadata": {
        "id": "Ao5vlVUXdBvn"
      },
      "source": [
        "# Evaluation\r\n",
        "The evaluation process can be asimilated to a process where we verify the information we generate is accord with the Business questions to be answered"
      ]
    },
    {
      "cell_type": "markdown",
      "metadata": {
        "id": "XpOXO2mPJJ_y"
      },
      "source": [
        "# Visualize\r\n",
        "Next, you will find a set of visualization which will help us solve the questions asked"
      ]
    },
    {
      "cell_type": "code",
      "metadata": {
        "id": "DPIIc-wsIReR",
        "colab": {
          "base_uri": "https://localhost:8080/",
          "height": 460
        },
        "outputId": "d80a3935-4717-48d9-c700-023a09672e46"
      },
      "source": [
        "plt.figure(dpi=100, figsize=(8, 5))\r\n",
        "plot_mi_scores(scor[scor>0])"
      ],
      "execution_count": null,
      "outputs": [
        {
          "output_type": "display_data",
          "data": {
            "image/png": "[encoded data removed]",
            "text/plain": [
              "<Figure size 800x500 with 1 Axes>"
            ]
          },
          "metadata": {
            "tags": [],
            "needs_background": "light"
          }
        }
      ]
    },
    {
      "cell_type": "code",
      "metadata": {
        "id": "Ywu418w59JhB",
        "colab": {
          "base_uri": "https://localhost:8080/",
          "height": 265
        },
        "outputId": "15beaf31-28b6-48c9-a500-1fd8be361a0e"
      },
      "source": [
        "# Plot the histogram of Home Central Defence for losing Home teams\r\n",
        "plt.hist(df.Home_Central_Defence[df.Home_team_victory==0],orientation='vertical',bins=20,color='red')\r\n",
        "plt.show()"
      ],
      "execution_count": null,
      "outputs": [
        {
          "output_type": "display_data",
          "data": {
            "image/png": "[encoded data removed]",
            "text/plain": [
              "<Figure size 432x288 with 1 Axes>"
            ]
          },
          "metadata": {
            "tags": [],
            "needs_background": "light"
          }
        }
      ]
    },
    {
      "cell_type": "code",
      "metadata": {
        "id": "3kbP5iCn9LHz",
        "colab": {
          "base_uri": "https://localhost:8080/",
          "height": 265
        },
        "outputId": "9be77d31-37f4-4900-a067-b6c48d9821f7"
      },
      "source": [
        "# Plot the histogram of Home Central Defence for winning Home teams\r\n",
        "plt.hist(df.Home_Central_Defence[df.Home_team_victory==1],orientation='vertical',bins=20,)\r\n",
        "plt.show()"
      ],
      "execution_count": null,
      "outputs": [
        {
          "output_type": "display_data",
          "data": {
            "image/png": "[encoded data removed]",
            "text/plain": [
              "<Figure size 432x288 with 1 Axes>"
            ]
          },
          "metadata": {
            "tags": [],
            "needs_background": "light"
          }
        }
      ]
    },
    {
      "cell_type": "code",
      "metadata": {
        "id": "d_E97_1j9VoF"
      },
      "source": [
        "# Creation of the new variables: Midfield ratio\r\n",
        "df['Midfield_ratio'] = df['Home_midfield']/(df['Home_midfield']+df['Away_midfield'])\r\n",
        "\r\n",
        "df['Central_Defence_vs_Attack'] = df['Home_Central_Defence']/(df['Home_Central_Defence']+df['Away_Central_Attack'])\r\n",
        "df['Right_Defence_vs_Attack'] = df['Home_Right_Defence']/(df['Home_Right_Defence']+df['Away_Left_Attack'])\r\n",
        "df['Left_Defence_vs_Attack'] = df['Home_Left_Defence']/(df['Home_Left_Defence']+df['Away_Right_Attack'])\r\n",
        "\r\n",
        "df['Central_Attack_vs_Defence'] = df['Home_Central_Attack']/(df['Home_Central_Attack']+df['Away_Central_Defence'])\r\n",
        "df['Right_Attack_vs_Defence'] = df['Home_Right_Attack']/(df['Home_Right_Attack']+df['Away_Left_Defence'])\r\n",
        "df['Left_Attack_vs_Defence'] = df['Home_Left_Attack']/(df['Home_Left_Attack']+df['Away_Right_Defence'])\r\n",
        "\r\n",
        "df['Indirect_Defence_vs_Attack'] = df['Home_Indirect_Defence']/(df['Home_Indirect_Defence']+df['Away_Indirect_Attack'])\r\n",
        "df['Indirect_Attack_vs_Defence'] = df['Home_Indirect_Attack']/(df['Home_Indirect_Attack']+df['Away_Indirect_Defence'])"
      ],
      "execution_count": null,
      "outputs": []
    },
    {
      "cell_type": "code",
      "metadata": {
        "id": "zDmS0NXc9t7i",
        "colab": {
          "base_uri": "https://localhost:8080/",
          "height": 241
        },
        "outputId": "fc4a1cf1-8689-43e7-a75b-4884e5d2487a"
      },
      "source": [
        "# Sample of the dataset\r\n",
        "df.head()"
      ],
      "execution_count": null,
      "outputs": [
        {
          "output_type": "execute_result",
          "data": {
            "text/html": [
              "<div>\n",
              "<style scoped>\n",
              "    .dataframe tbody tr th:only-of-type {\n",
              "        vertical-align: middle;\n",
              "    }\n",
              "\n",
              "    .dataframe tbody tr th {\n",
              "        vertical-align: top;\n",
              "    }\n",
              "\n",
              "    .dataframe thead th {\n",
              "        text-align: right;\n",
              "    }\n",
              "</style>\n",
              "<table border=\"1\" class=\"dataframe\">\n",
              "  <thead>\n",
              "    <tr style=\"text-align: right;\">\n",
              "      <th></th>\n",
              "      <th>Home_midfield</th>\n",
              "      <th>Away_midfield</th>\n",
              "      <th>Home_Right_Defence</th>\n",
              "      <th>Away_Right_Defence</th>\n",
              "      <th>Home_Central_Defence</th>\n",
              "      <th>Away_Central_Defence</th>\n",
              "      <th>Home_Left_Defence</th>\n",
              "      <th>Away_Left_Defence</th>\n",
              "      <th>Home_Right_Attack</th>\n",
              "      <th>Away_Right_Attack</th>\n",
              "      <th>Home_Central_Attack</th>\n",
              "      <th>Away_Central_Attack</th>\n",
              "      <th>Home_Left_Attack</th>\n",
              "      <th>Away_Left_Attack</th>\n",
              "      <th>Home_Indirect_Defence</th>\n",
              "      <th>Away_Indirect_Defence</th>\n",
              "      <th>Home_Indirect_Attack</th>\n",
              "      <th>Away_Indirect_Attack</th>\n",
              "      <th>Home_Tactic_Level</th>\n",
              "      <th>Away_Tactic_Level</th>\n",
              "      <th>Home_team_victory</th>\n",
              "      <th>Home_Tactic_Attack in the Middle</th>\n",
              "      <th>Home_Tactic_Attack on wings</th>\n",
              "      <th>Home_Tactic_Counter-attacks</th>\n",
              "      <th>Home_Tactic_Long shots</th>\n",
              "      <th>Home_Tactic_Normal</th>\n",
              "      <th>Home_Tactic_Play creatively</th>\n",
              "      <th>Home_Tactic_Pressing</th>\n",
              "      <th>Away_Tactic_Attack in the Middle</th>\n",
              "      <th>Away_Tactic_Attack on wings</th>\n",
              "      <th>Away_Tactic_Counter-attacks</th>\n",
              "      <th>Away_Tactic_Long shots</th>\n",
              "      <th>Away_Tactic_Normal</th>\n",
              "      <th>Away_Tactic_Play creatively</th>\n",
              "      <th>Away_Tactic_Pressing</th>\n",
              "      <th>Midfield_ratio</th>\n",
              "      <th>Central_Defence_vs_Attack</th>\n",
              "      <th>Right_Defence_vs_Attack</th>\n",
              "      <th>Left_Defence_vs_Attack</th>\n",
              "      <th>Central_Attack_vs_Defence</th>\n",
              "      <th>Right_Attack_vs_Defence</th>\n",
              "      <th>Left_Attack_vs_Defence</th>\n",
              "      <th>Indirect_Defence_vs_Attack</th>\n",
              "      <th>Indirect_Attack_vs_Defence</th>\n",
              "    </tr>\n",
              "  </thead>\n",
              "  <tbody>\n",
              "    <tr>\n",
              "      <th>0</th>\n",
              "      <td>12.0</td>\n",
              "      <td>6.0</td>\n",
              "      <td>14.0</td>\n",
              "      <td>7.0</td>\n",
              "      <td>18.0</td>\n",
              "      <td>7.0</td>\n",
              "      <td>17.0</td>\n",
              "      <td>5.0</td>\n",
              "      <td>7.0</td>\n",
              "      <td>8.0</td>\n",
              "      <td>5.0</td>\n",
              "      <td>9.0</td>\n",
              "      <td>6.0</td>\n",
              "      <td>6.0</td>\n",
              "      <td>15.0</td>\n",
              "      <td>9.0</td>\n",
              "      <td>14.0</td>\n",
              "      <td>10.0</td>\n",
              "      <td>0</td>\n",
              "      <td>0</td>\n",
              "      <td>1.0</td>\n",
              "      <td>0</td>\n",
              "      <td>0</td>\n",
              "      <td>0</td>\n",
              "      <td>0</td>\n",
              "      <td>1</td>\n",
              "      <td>0</td>\n",
              "      <td>0</td>\n",
              "      <td>0</td>\n",
              "      <td>0</td>\n",
              "      <td>0</td>\n",
              "      <td>0</td>\n",
              "      <td>1</td>\n",
              "      <td>0</td>\n",
              "      <td>0</td>\n",
              "      <td>0.666667</td>\n",
              "      <td>0.666667</td>\n",
              "      <td>0.700000</td>\n",
              "      <td>0.680000</td>\n",
              "      <td>0.416667</td>\n",
              "      <td>0.583333</td>\n",
              "      <td>0.461538</td>\n",
              "      <td>0.600000</td>\n",
              "      <td>0.608696</td>\n",
              "    </tr>\n",
              "    <tr>\n",
              "      <th>1</th>\n",
              "      <td>5.0</td>\n",
              "      <td>4.0</td>\n",
              "      <td>5.0</td>\n",
              "      <td>5.0</td>\n",
              "      <td>5.0</td>\n",
              "      <td>7.0</td>\n",
              "      <td>6.0</td>\n",
              "      <td>6.0</td>\n",
              "      <td>6.0</td>\n",
              "      <td>6.0</td>\n",
              "      <td>6.0</td>\n",
              "      <td>5.0</td>\n",
              "      <td>8.0</td>\n",
              "      <td>6.0</td>\n",
              "      <td>6.0</td>\n",
              "      <td>8.0</td>\n",
              "      <td>7.0</td>\n",
              "      <td>9.0</td>\n",
              "      <td>0</td>\n",
              "      <td>0</td>\n",
              "      <td>1.0</td>\n",
              "      <td>0</td>\n",
              "      <td>0</td>\n",
              "      <td>0</td>\n",
              "      <td>0</td>\n",
              "      <td>1</td>\n",
              "      <td>0</td>\n",
              "      <td>0</td>\n",
              "      <td>0</td>\n",
              "      <td>0</td>\n",
              "      <td>0</td>\n",
              "      <td>0</td>\n",
              "      <td>1</td>\n",
              "      <td>0</td>\n",
              "      <td>0</td>\n",
              "      <td>0.555556</td>\n",
              "      <td>0.500000</td>\n",
              "      <td>0.454545</td>\n",
              "      <td>0.500000</td>\n",
              "      <td>0.461538</td>\n",
              "      <td>0.500000</td>\n",
              "      <td>0.615385</td>\n",
              "      <td>0.400000</td>\n",
              "      <td>0.466667</td>\n",
              "    </tr>\n",
              "    <tr>\n",
              "      <th>2</th>\n",
              "      <td>4.0</td>\n",
              "      <td>3.0</td>\n",
              "      <td>4.0</td>\n",
              "      <td>6.0</td>\n",
              "      <td>7.0</td>\n",
              "      <td>6.0</td>\n",
              "      <td>8.0</td>\n",
              "      <td>3.0</td>\n",
              "      <td>7.0</td>\n",
              "      <td>7.0</td>\n",
              "      <td>6.0</td>\n",
              "      <td>5.0</td>\n",
              "      <td>5.0</td>\n",
              "      <td>7.0</td>\n",
              "      <td>8.0</td>\n",
              "      <td>7.0</td>\n",
              "      <td>9.0</td>\n",
              "      <td>8.0</td>\n",
              "      <td>0</td>\n",
              "      <td>0</td>\n",
              "      <td>1.0</td>\n",
              "      <td>0</td>\n",
              "      <td>0</td>\n",
              "      <td>0</td>\n",
              "      <td>0</td>\n",
              "      <td>1</td>\n",
              "      <td>0</td>\n",
              "      <td>0</td>\n",
              "      <td>0</td>\n",
              "      <td>0</td>\n",
              "      <td>0</td>\n",
              "      <td>0</td>\n",
              "      <td>1</td>\n",
              "      <td>0</td>\n",
              "      <td>0</td>\n",
              "      <td>0.571429</td>\n",
              "      <td>0.583333</td>\n",
              "      <td>0.363636</td>\n",
              "      <td>0.533333</td>\n",
              "      <td>0.500000</td>\n",
              "      <td>0.700000</td>\n",
              "      <td>0.454545</td>\n",
              "      <td>0.500000</td>\n",
              "      <td>0.562500</td>\n",
              "    </tr>\n",
              "    <tr>\n",
              "      <th>3</th>\n",
              "      <td>7.0</td>\n",
              "      <td>11.0</td>\n",
              "      <td>7.0</td>\n",
              "      <td>16.0</td>\n",
              "      <td>7.0</td>\n",
              "      <td>17.0</td>\n",
              "      <td>5.0</td>\n",
              "      <td>17.0</td>\n",
              "      <td>8.0</td>\n",
              "      <td>16.0</td>\n",
              "      <td>9.0</td>\n",
              "      <td>7.0</td>\n",
              "      <td>6.0</td>\n",
              "      <td>20.0</td>\n",
              "      <td>9.0</td>\n",
              "      <td>16.0</td>\n",
              "      <td>10.0</td>\n",
              "      <td>16.0</td>\n",
              "      <td>0</td>\n",
              "      <td>6</td>\n",
              "      <td>0.0</td>\n",
              "      <td>0</td>\n",
              "      <td>0</td>\n",
              "      <td>0</td>\n",
              "      <td>0</td>\n",
              "      <td>1</td>\n",
              "      <td>0</td>\n",
              "      <td>0</td>\n",
              "      <td>0</td>\n",
              "      <td>1</td>\n",
              "      <td>0</td>\n",
              "      <td>0</td>\n",
              "      <td>0</td>\n",
              "      <td>0</td>\n",
              "      <td>0</td>\n",
              "      <td>0.388889</td>\n",
              "      <td>0.500000</td>\n",
              "      <td>0.259259</td>\n",
              "      <td>0.238095</td>\n",
              "      <td>0.346154</td>\n",
              "      <td>0.320000</td>\n",
              "      <td>0.272727</td>\n",
              "      <td>0.360000</td>\n",
              "      <td>0.384615</td>\n",
              "    </tr>\n",
              "    <tr>\n",
              "      <th>4</th>\n",
              "      <td>15.0</td>\n",
              "      <td>4.0</td>\n",
              "      <td>27.0</td>\n",
              "      <td>4.0</td>\n",
              "      <td>29.0</td>\n",
              "      <td>7.0</td>\n",
              "      <td>25.0</td>\n",
              "      <td>7.0</td>\n",
              "      <td>11.0</td>\n",
              "      <td>7.0</td>\n",
              "      <td>10.0</td>\n",
              "      <td>6.0</td>\n",
              "      <td>13.0</td>\n",
              "      <td>5.0</td>\n",
              "      <td>19.0</td>\n",
              "      <td>8.0</td>\n",
              "      <td>17.0</td>\n",
              "      <td>9.0</td>\n",
              "      <td>13</td>\n",
              "      <td>0</td>\n",
              "      <td>1.0</td>\n",
              "      <td>0</td>\n",
              "      <td>0</td>\n",
              "      <td>0</td>\n",
              "      <td>0</td>\n",
              "      <td>0</td>\n",
              "      <td>1</td>\n",
              "      <td>0</td>\n",
              "      <td>0</td>\n",
              "      <td>0</td>\n",
              "      <td>0</td>\n",
              "      <td>0</td>\n",
              "      <td>1</td>\n",
              "      <td>0</td>\n",
              "      <td>0</td>\n",
              "      <td>0.789474</td>\n",
              "      <td>0.828571</td>\n",
              "      <td>0.843750</td>\n",
              "      <td>0.781250</td>\n",
              "      <td>0.588235</td>\n",
              "      <td>0.611111</td>\n",
              "      <td>0.764706</td>\n",
              "      <td>0.678571</td>\n",
              "      <td>0.680000</td>\n",
              "    </tr>\n",
              "  </tbody>\n",
              "</table>\n",
              "</div>"
            ],
            "text/plain": [
              "   Home_midfield  ...  Indirect_Attack_vs_Defence\n",
              "0           12.0  ...                    0.608696\n",
              "1            5.0  ...                    0.466667\n",
              "2            4.0  ...                    0.562500\n",
              "3            7.0  ...                    0.384615\n",
              "4           15.0  ...                    0.680000\n",
              "\n",
              "[5 rows x 44 columns]"
            ]
          },
          "metadata": {
            "tags": []
          },
          "execution_count": 174
        }
      ]
    },
    {
      "cell_type": "code",
      "metadata": {
        "id": "5hWwnj64FhtA"
      },
      "source": [
        "# Define X & Y\r\n",
        "\r\n",
        "X_raw = df.loc[:,[\"Home_midfield\",\"Away_midfield\",\"Home_Right_Defence\",\r\n",
        "                  \"Away_Right_Defence\",\"Home_Central_Defence\",\r\n",
        "                  \"Away_Central_Defence\",\"Home_Left_Defence\",\r\n",
        "                  \"Away_Left_Defence\",\"Home_Right_Attack\",\"Away_Right_Attack\",\r\n",
        "                  \"Home_Central_Attack\",\"Away_Central_Attack\",\r\n",
        "                  \"Home_Left_Attack\",\"Away_Left_Attack\",\r\n",
        "                  \"Home_Indirect_Defence\",\"Away_Indirect_Defence\",\r\n",
        "                  \"Home_Indirect_Attack\",\"Away_Indirect_Attack\",\r\n",
        "                  \"Home_Tactic_Level\",\"Away_Tactic_Level\",\r\n",
        "                  \"Home_Tactic_Attack in the Middle\",\r\n",
        "                  \"Home_Tactic_Attack on wings\",\r\n",
        "                  \"Home_Tactic_Counter-attacks\",\r\n",
        "                  \"Home_Tactic_Long shots\",\"Home_Tactic_Normal\",\r\n",
        "                  \"Home_Tactic_Play creatively\",\r\n",
        "                  \"Home_Tactic_Pressing\",\r\n",
        "                  \"Away_Tactic_Attack in the Middle\",\r\n",
        "                  \"Away_Tactic_Attack on wings\",\r\n",
        "                  \"Away_Tactic_Counter-attacks\",\r\n",
        "                  \"Away_Tactic_Long shots\",\"Away_Tactic_Normal\",\r\n",
        "                  \"Away_Tactic_Play creatively\",\r\n",
        "                  \"Away_Tactic_Pressing\"]]\r\n",
        "\r\n",
        "X = df.loc[:,[\"Midfield_ratio\",\"Central_Defence_vs_Attack\",\r\n",
        "                         'Right_Defence_vs_Attack','Left_Defence_vs_Attack',\r\n",
        "                         'Central_Attack_vs_Defence','Right_Attack_vs_Defence',\r\n",
        "                         'Left_Attack_vs_Defence',\r\n",
        "                         'Indirect_Defence_vs_Attack',\r\n",
        "                         'Indirect_Attack_vs_Defence',\r\n",
        "                         \"Home_Tactic_Level\",\"Away_Tactic_Level\",\r\n",
        "                         \"Home_Tactic_Attack in the Middle\",\r\n",
        "                         \"Home_Tactic_Attack on wings\",\r\n",
        "                         \"Home_Tactic_Counter-attacks\",\r\n",
        "                         \"Home_Tactic_Long shots\",\"Home_Tactic_Normal\",\r\n",
        "                         \"Home_Tactic_Play creatively\",\r\n",
        "                         \"Home_Tactic_Pressing\",\r\n",
        "                         \"Away_Tactic_Attack in the Middle\",\r\n",
        "                         \"Away_Tactic_Attack on wings\",\r\n",
        "                         \"Away_Tactic_Counter-attacks\",\r\n",
        "                         \"Away_Tactic_Long shots\",\"Away_Tactic_Normal\",\r\n",
        "                         \"Away_Tactic_Play creatively\",\r\n",
        "                         \"Away_Tactic_Pressing\"]]\r\n",
        "\r\n",
        "Y = df.Home_team_victory"
      ],
      "execution_count": null,
      "outputs": []
    },
    {
      "cell_type": "code",
      "metadata": {
        "colab": {
          "base_uri": "https://localhost:8080/",
          "height": 282
        },
        "id": "LREOBxciQor6",
        "outputId": "5ce4821d-fd27-420e-e25c-1f77486befb7"
      },
      "source": [
        "df.Home_midfield.hist(bins=20)"
      ],
      "execution_count": 278,
      "outputs": [
        {
          "output_type": "execute_result",
          "data": {
            "text/plain": [
              "<matplotlib.axes._subplots.AxesSubplot at 0x7f97c77f86d0>"
            ]
          },
          "metadata": {
            "tags": []
          },
          "execution_count": 278
        },
        {
          "output_type": "display_data",
          "data": {
            "image/png": "[encoded data removed]",
            "text/plain": [
              "<Figure size 432x288 with 1 Axes>"
            ]
          },
          "metadata": {
            "tags": [],
            "needs_background": "light"
          }
        }
      ]
    },
    {
      "cell_type": "code",
      "metadata": {
        "colab": {
          "base_uri": "https://localhost:8080/",
          "height": 282
        },
        "id": "tvRpvaq0RIFD",
        "outputId": "dc3040ac-932a-4cbc-a033-770eed1931e0"
      },
      "source": [
        "df.Midfield_ratio.hist(bins=20)"
      ],
      "execution_count": 279,
      "outputs": [
        {
          "output_type": "execute_result",
          "data": {
            "text/plain": [
              "<matplotlib.axes._subplots.AxesSubplot at 0x7f97c779b910>"
            ]
          },
          "metadata": {
            "tags": []
          },
          "execution_count": 279
        },
        {
          "output_type": "display_data",
          "data": {
            "image/png": "[encoded data removed]",
            "text/plain": [
              "<Figure size 432x288 with 1 Axes>"
            ]
          },
          "metadata": {
            "tags": [],
            "needs_background": "light"
          }
        }
      ]
    },
    {
      "cell_type": "code",
      "metadata": {
        "id": "dHCv4IHE9uVe",
        "colab": {
          "base_uri": "https://localhost:8080/",
          "height": 460
        },
        "outputId": "611529fc-fb7f-46b2-d966-e7a4f876e040"
      },
      "source": [
        "# Calculation of Mutual Information taking into account the Midfield ratio & other top 3 variables\r\n",
        "scor2=mi_score(X, Y, discrete_features=False)\r\n",
        "plt.figure(dpi=100, figsize=(8, 5))\r\n",
        "plot_mi_scores(scor2[scor2>0])"
      ],
      "execution_count": null,
      "outputs": [
        {
          "output_type": "display_data",
          "data": {
            "image/png": "[encoded data removed]",
            "text/plain": [
              "<Figure size 800x500 with 1 Axes>"
            ]
          },
          "metadata": {
            "tags": [],
            "needs_background": "light"
          }
        }
      ]
    },
    {
      "cell_type": "code",
      "metadata": {
        "id": "RCbinSpRFL3A"
      },
      "source": [
        "# Import models and metrics for the modelling part\r\n",
        "from sklearn.linear_model import LogisticRegression\r\n",
        "from sklearn.ensemble import RandomForestClassifier\r\n",
        "from sklearn.tree import DecisionTreeClassifier\r\n",
        "from sklearn.metrics import roc_auc_score\r\n",
        "from sklearn.metrics import log_loss\r\n",
        "from sklearn.model_selection import train_test_split\r\n",
        "from sklearn import metrics\r\n",
        "from sklearn.ensemble import BaggingClassifier\r\n",
        "from sklearn.neighbors import KNeighborsClassifier\r\n",
        "from sklearn.neural_network import MLPClassifier\r\n",
        "from sklearn.metrics import plot_confusion_matrix\r\n",
        "from xgboost import XGBClassifier\r\n",
        "from sklearn.model_selection import RandomizedSearchCV\r\n",
        "from sklearn.model_selection import StratifiedKFold\r\n",
        "from sklearn.metrics import accuracy_score\r\n",
        "from sklearn.metrics import roc_curve\r\n",
        "from time import perf_counter "
      ],
      "execution_count": null,
      "outputs": []
    },
    {
      "cell_type": "code",
      "metadata": {
        "id": "hn75MqDjhfG_"
      },
      "source": [
        "# Parameter grid for XGBoost\r\n",
        "params = {'min_child_weight': [1, 5, 10],\r\n",
        "        'gamma': [0.5, 1, 1.5, 2, 5, 10],\r\n",
        "        'subsample': [0.6, 0.8, 1.0],\r\n",
        "        'colsample_bytree': [0.6, 0.8, 1.0],\r\n",
        "        'max_depth': [3, 4, 5, 10]}\r\n",
        "\r\n",
        "folds = 3\r\n",
        "param_comb = 45"
      ],
      "execution_count": null,
      "outputs": []
    },
    {
      "cell_type": "code",
      "metadata": {
        "id": "mlp_jgfu9bqe"
      },
      "source": [
        "# Personalized function to get the thresold which optimizes the distance to the upper-left corner\r\n",
        "def get_best_thre(Y,preds):\r\n",
        "  '''\r\n",
        "    Calculates the best threshold which minimizes the euclidean distance to the (0,1) point of the ROC curve\r\n",
        "    @param Y: The column with the real label\r\n",
        "    @param preds: Prediction of labels in probability\r\n",
        "    \r\n",
        "    @return: The threshold which minimizes the euclidean distance to the (0,1) point of the ROC curve\r\n",
        "  '''\r\n",
        "  fpr, tpr, thresholds = roc_curve(Y,preds)\r\n",
        "  d = np.sqrt(fpr**2+(1-tpr)**2)\r\n",
        "  return(thresholds[argmin(d)])"
      ],
      "execution_count": null,
      "outputs": []
    },
    {
      "cell_type": "code",
      "metadata": {
        "id": "jT3SqP_HmS_U"
      },
      "source": [
        "# Personalized function to iterate throguht the models\r\n",
        "def model_iteration(Model_name,Technique,Model,set_df):\r\n",
        "  '''\r\n",
        "    Fits a model, calculates the metrics: AUC, log-loss, 1-accuracy, feature importance (or coefficients) of the model\r\n",
        "    and puts the information in a pandas dataframe for further analysis\r\n",
        "    @param Model_name: Is the name of the question we are answering with the model\r\n",
        "    @param Technique: Is a human-understandable way to describe the algorithm\r\n",
        "    @param Model: Is the model object which will be understood by Python\r\n",
        "    @param set_df: A list with X_train, X_test, Y_train, Y_test datasets where the techniques will be fitted and tested\r\n",
        "    \r\n",
        "    @return: A pandas dataframe with the information of every model, metrics and the object model to be called later\r\n",
        "    '''\r\n",
        "  start = perf_counter()\r\n",
        "  \r\n",
        "  # Special case: The exogenous variables dataset have only 1 columns\r\n",
        "  \r\n",
        "  if len(set_df[0].shape)==1:\r\n",
        "    fitter = Model.fit(set_df[0].values.reshape(-1,1),set_df[2])\r\n",
        "  else:\r\n",
        "    fitter = Model.fit(set_df[0],set_df[2])\r\n",
        "  end = perf_counter()\r\n",
        "  time = end-start\r\n",
        "  \r\n",
        "  if len(set_df[0].shape)==1:\r\n",
        "    pred_test = fitter.predict_proba(set_df[1].values.reshape(-1,1))[:,1]\r\n",
        "  else:\r\n",
        "    pred_test = fitter.predict_proba(set_df[1])[:,1]\r\n",
        "\r\n",
        "  if len(set_df[0].shape)==1:\r\n",
        "    set_df[0] = set_df[0].to_frame()\r\n",
        "\r\n",
        "  auc = roc_auc_score(set_df[3],pred_test)\r\n",
        "  logloss = log_loss(set_df[3],pred_test)\r\n",
        "  best_thre = get_best_thre(set_df[3],pred_test)\r\n",
        "  no_accuracy = accuracy_score(set_df[3],pred_test<best_thre)\r\n",
        "\r\n",
        "  # Function is prepared to retrive best_estimator from GridSearch & Non-GridSearch\r\n",
        "  if hasattr(fitter,'coef_'):\r\n",
        "    Importance = pd.DataFrame({'Coefficient': fitter.coef_[0],'Abs_Coefficient': np.abs(fitter.coef_[0])}, index=set_df[0].columns).sort_values(by='Abs_Coefficient',ascending=False)\r\n",
        "  elif hasattr(fitter,'feature_importances_'):\r\n",
        "    Importance = pd.DataFrame(fitter.feature_importances_,set_df[0].columns,['Feature Importance']).sort_values(by='Feature Importance',ascending=False)\r\n",
        "  elif hasattr(fitter,'best_estimator_'):\r\n",
        "    if hasattr(fitter.best_estimator_,'coef_'):\r\n",
        "      Importance = pd.DataFrame({'Coefficient': fitter.best_estimator_.coef_[0],'Abs_Coefficient': np.abs(fitter.best_estimator_.coef_[0])}, index=set_df[0].columns).sort_values(by='Abs_Coefficient',ascending=False)\r\n",
        "    elif hasattr(fitter.best_estimator_,'feature_importances_'):\r\n",
        "      Importance = pd.DataFrame(fitter.best_estimator_.feature_importances_,set_df[0].columns,['Feature Importance']).sort_values(by='Feature Importance',ascending=False)\r\n",
        "    else:\r\n",
        "      Importance = pd.DataFrame({'does not apply': [0]},index=['None'])\r\n",
        "  else:\r\n",
        "    Importance = pd.DataFrame({'does not apply': [0]},index=['None'])\r\n",
        "  \r\n",
        "  results = pd.DataFrame({'Model': [Model_name],\r\n",
        "                          'Technique': [Technique],\r\n",
        "                          'AUC': [auc],\r\n",
        "                          'Log_Loss': [logloss],\r\n",
        "                          'No_Accuracy': [no_accuracy],\r\n",
        "                          'Influential_Feature': [Importance.index[0]],\r\n",
        "                          'Method': [Importance.columns[0]],\r\n",
        "                          'Value': [Importance[Importance.columns[0]][0]],\r\n",
        "                          'Time elapsed (sec)': [time],\r\n",
        "                          'Model Python': [Model]})\r\n",
        "  \r\n",
        "  if set_df[0].shape[1]==1:\r\n",
        "    set_df[0] = set_df[0].squeeze()\r\n",
        "\r\n",
        "  return(results)"
      ],
      "execution_count": null,
      "outputs": []
    },
    {
      "cell_type": "code",
      "metadata": {
        "id": "HZapOJ4k1psU"
      },
      "source": [
        "# Table to save results\r\n",
        "results = pd.DataFrame({'Model': [], 'Technique': [], 'AUC': [], \r\n",
        "                        'Log_Loss': [], 'No_Accuracy': [],\r\n",
        "                        'Influential_Feature': [],\r\n",
        "                        'Method': [],\r\n",
        "                        'Value': [],\r\n",
        "                        'Time elapsed (sec)': [],\r\n",
        "                        'Model Python': []})"
      ],
      "execution_count": null,
      "outputs": []
    },
    {
      "cell_type": "markdown",
      "metadata": {
        "id": "ZxeVhxPEYfMm"
      },
      "source": [
        "# Models with raw variables"
      ]
    },
    {
      "cell_type": "code",
      "metadata": {
        "id": "QeLa7wy4YkfD"
      },
      "source": [
        "# Variables for the model with raw variables\r\n",
        "Model_name = 'Raw Variables'\r\n",
        "X_train_raw, X_test_raw, Y_train, Y_test = train_test_split(X_raw, Y, test_size=0.3, random_state=49)\r\n",
        "set_df = [X_train_raw, X_test_raw, Y_train, Y_test]"
      ],
      "execution_count": null,
      "outputs": []
    },
    {
      "cell_type": "code",
      "metadata": {
        "id": "-6dA_um0nyD_"
      },
      "source": [
        "# Model with Logistic Regression\r\n",
        "\r\n",
        "Technique = 'Logistic Regression'\r\n",
        "Model = LogisticRegression(random_state=0,max_iter=10000)\r\n",
        "results = results.append(model_iteration(Model_name,Technique,Model,set_df))"
      ],
      "execution_count": null,
      "outputs": []
    },
    {
      "cell_type": "code",
      "metadata": {
        "id": "Z1vyKCmwRsU2"
      },
      "source": [
        "# Tree model\r\n",
        "\r\n",
        "Technique = 'Decision tree'\r\n",
        "Model = DecisionTreeClassifier()\r\n",
        "results = results.append(model_iteration(Model_name,Technique,Model,set_df))"
      ],
      "execution_count": null,
      "outputs": []
    },
    {
      "cell_type": "code",
      "metadata": {
        "id": "OHpEORX5om8Q"
      },
      "source": [
        "# Random Forest Model\r\n",
        "\r\n",
        "Technique = 'Random Forest. Depth = 2'\r\n",
        "Model = RandomForestClassifier(max_depth=2, random_state=0)\r\n",
        "results = results.append(model_iteration(Model_name,Technique,Model,set_df))"
      ],
      "execution_count": null,
      "outputs": []
    },
    {
      "cell_type": "code",
      "metadata": {
        "id": "821rX6SUsNwb"
      },
      "source": [
        "# Random Forest Model\r\n",
        "\r\n",
        "Technique = 'Random Forest. Depth = 3'\r\n",
        "Model = RandomForestClassifier(max_depth=3, random_state=0)\r\n",
        "results = results.append(model_iteration(Model_name,Technique,Model,set_df))"
      ],
      "execution_count": null,
      "outputs": []
    },
    {
      "cell_type": "code",
      "metadata": {
        "id": "t87VfXlWx1lz"
      },
      "source": [
        "# Bagging methods of KNN\r\n",
        "\r\n",
        "Technique = 'Bagging of KNN'\r\n",
        "Model = BaggingClassifier(KNeighborsClassifier(),max_samples=0.5, max_features=0.5,bootstrap_features=True)\r\n",
        "results = results.append(model_iteration(Model_name,Technique,Model,set_df))"
      ],
      "execution_count": null,
      "outputs": []
    },
    {
      "cell_type": "code",
      "metadata": {
        "id": "vtO6ArswyW8K"
      },
      "source": [
        "# Neural Networks\r\n",
        "\r\n",
        "Technique = 'Neural networks'\r\n",
        "Model = MLPClassifier(random_state=1, max_iter=3000)\r\n",
        "results = results.append(model_iteration(Model_name,Technique,Model,set_df))"
      ],
      "execution_count": null,
      "outputs": []
    },
    {
      "cell_type": "code",
      "metadata": {
        "id": "87A6U1m9gs-v"
      },
      "source": [
        "# XGBoost\r\n",
        "\r\n",
        "Technique = \"RandomSearch XGBoost\"\r\n",
        "\r\n",
        "xgb = XGBClassifier(learning_rate=0.02, n_estimators=100, objective='binary:logistic',\r\n",
        "                    silent=True, nthread=4)\r\n",
        "\r\n",
        "skf = StratifiedKFold(n_splits=folds, shuffle = True, random_state = 1001)\r\n",
        "\r\n",
        "Model = RandomizedSearchCV(xgb, param_distributions=params,\r\n",
        "                                   n_iter=param_comb, scoring='neg_log_loss',\r\n",
        "                                   n_jobs=4, cv=skf.split(set_df[0],set_df[2]),\r\n",
        "                                   verbose=0, random_state=1901)\r\n",
        "\r\n",
        "results = results.append(model_iteration(Model_name,Technique,Model,set_df))"
      ],
      "execution_count": null,
      "outputs": []
    },
    {
      "cell_type": "markdown",
      "metadata": {
        "id": "clCSekQBYF2U"
      },
      "source": [
        "# Models with all the generated features (of comparing field rates)"
      ]
    },
    {
      "cell_type": "code",
      "metadata": {
        "id": "GDMkzu6YGr0S"
      },
      "source": [
        "# Datasets for the generated values\r\n",
        "Model_name = \"Generated features\"\r\n",
        "X_train, X_test, Y_train, Y_test = train_test_split(X, Y, test_size=0.3, random_state=49)\r\n",
        "set_df = [X_train, X_test, Y_train, Y_test]"
      ],
      "execution_count": null,
      "outputs": []
    },
    {
      "cell_type": "code",
      "metadata": {
        "id": "yJ3OX1duFWU3"
      },
      "source": [
        "# Model with Logistic Regression\r\n",
        "\r\n",
        "Technique = 'Logistic regression'\r\n",
        "Model = LogisticRegression(random_state=0,max_iter=10000)\r\n",
        "results = results.append(model_iteration(Model_name,Technique,Model,set_df))"
      ],
      "execution_count": null,
      "outputs": []
    },
    {
      "cell_type": "code",
      "metadata": {
        "id": "Lqj36XppTXYQ"
      },
      "source": [
        "# Tree model\r\n",
        "\r\n",
        "Technique = 'Decision tree'\r\n",
        "Model = DecisionTreeClassifier()\r\n",
        "results = results.append(model_iteration(Model_name,Technique,Model,set_df))"
      ],
      "execution_count": null,
      "outputs": []
    },
    {
      "cell_type": "code",
      "metadata": {
        "id": "BB9dCstLHizb"
      },
      "source": [
        "# Random Forest Model\r\n",
        "\r\n",
        "Technique = 'Random Forest. Depth = 2'\r\n",
        "Model = RandomForestClassifier(max_depth=2, random_state=0)\r\n",
        "results = results.append(model_iteration(Model_name,Technique,Model,set_df))"
      ],
      "execution_count": null,
      "outputs": []
    },
    {
      "cell_type": "code",
      "metadata": {
        "id": "gtnEO21_LID5"
      },
      "source": [
        "# Random Forest Model - depth 3\r\n",
        "\r\n",
        "Technique = 'Random Forest. Depth = 3'\r\n",
        "Model = RandomForestClassifier(max_depth=3, random_state=0)\r\n",
        "results = results.append(model_iteration(Model_name,Technique,Model,set_df))"
      ],
      "execution_count": null,
      "outputs": []
    },
    {
      "cell_type": "code",
      "metadata": {
        "id": "MPhBEjSGLOxF"
      },
      "source": [
        "# Bagging methods of KNN\r\n",
        "\r\n",
        "Technique = \"Bagging of KNN\"\r\n",
        "Model = BaggingClassifier(KNeighborsClassifier(),max_samples=0.5, max_features=0.5)\r\n",
        "results = results.append(model_iteration(Model_name,Technique,Model,set_df))"
      ],
      "execution_count": null,
      "outputs": []
    },
    {
      "cell_type": "code",
      "metadata": {
        "id": "fUHTGdDTRRHf"
      },
      "source": [
        "# Neural Networks\r\n",
        "\r\n",
        "Technique = 'Neural Networks'\r\n",
        "Model = MLPClassifier(random_state=1, max_iter=3000)\r\n",
        "results = results.append(model_iteration(Model_name,Technique,Model,set_df))"
      ],
      "execution_count": null,
      "outputs": []
    },
    {
      "cell_type": "code",
      "metadata": {
        "id": "XTGwdRnW_reb"
      },
      "source": [
        "Technique = \"RandomSearch XGBoost\"\r\n",
        "\r\n",
        "xgb = XGBClassifier(learning_rate=0.02, n_estimators=100, objective='binary:logistic',\r\n",
        "                    silent=True, nthread=4)\r\n",
        "\r\n",
        "skf = StratifiedKFold(n_splits=folds, shuffle = True, random_state = 1001)\r\n",
        "\r\n",
        "Model = RandomizedSearchCV(xgb, param_distributions=params,\r\n",
        "                                   n_iter=param_comb, scoring='neg_log_loss',\r\n",
        "                                   n_jobs=4, cv=skf.split(set_df[0],set_df[2]),\r\n",
        "                                   verbose=0, random_state=1901)\r\n",
        "\r\n",
        "results = results.append(model_iteration(Model_name,Technique,Model,set_df))"
      ],
      "execution_count": null,
      "outputs": []
    },
    {
      "cell_type": "markdown",
      "metadata": {
        "id": "mEJGqN-BWdzG"
      },
      "source": [
        "# Models with Midfield ratio only"
      ]
    },
    {
      "cell_type": "code",
      "metadata": {
        "id": "-TamHtl3aQV3"
      },
      "source": [
        "# Variables for the model with midfield ratio only\r\n",
        "Model_name = 'Midfield ratio only'\r\n",
        "X_train, X_test, Y_train, Y_test = train_test_split(X['Midfield_ratio'], Y, test_size=0.3, random_state=49)\r\n",
        "set_df = [X_train, X_test, Y_train, Y_test]"
      ],
      "execution_count": null,
      "outputs": []
    },
    {
      "cell_type": "code",
      "metadata": {
        "id": "HWUoZRP4T0fD"
      },
      "source": [
        "# Logistic Regression with only Midfield_ratio\r\n",
        "\r\n",
        "Technique = 'Logistic Regression'\r\n",
        "Model = LogisticRegression(random_state=0)\r\n",
        "results = results.append(model_iteration(Model_name,Technique,Model,set_df))"
      ],
      "execution_count": null,
      "outputs": []
    },
    {
      "cell_type": "code",
      "metadata": {
        "id": "6vqZvBWGbL3l"
      },
      "source": [
        "# Tree model\r\n",
        "\r\n",
        "Technique = 'Decision tree'\r\n",
        "Model = DecisionTreeClassifier()\r\n",
        "results = results.append(model_iteration(Model_name,Technique,Model,set_df))"
      ],
      "execution_count": null,
      "outputs": []
    },
    {
      "cell_type": "code",
      "metadata": {
        "id": "PG9l96ZsU-et"
      },
      "source": [
        "# Random Forest Model\r\n",
        "\r\n",
        "Technique = 'Random Forest. Depth = 2'\r\n",
        "Model = RandomForestClassifier(max_depth=2, random_state=0)\r\n",
        "results = results.append(model_iteration(Model_name,Technique,Model,set_df))"
      ],
      "execution_count": null,
      "outputs": []
    },
    {
      "cell_type": "code",
      "metadata": {
        "id": "yVvyluVcVQxs"
      },
      "source": [
        "# Random Forest Model\r\n",
        "\r\n",
        "Technique = 'Random Forest. Depth = 3'\r\n",
        "Model = RandomForestClassifier(max_depth=3, random_state=0)\r\n",
        "results = results.append(model_iteration(Model_name,Technique,Model,set_df))"
      ],
      "execution_count": null,
      "outputs": []
    },
    {
      "cell_type": "code",
      "metadata": {
        "id": "qAtlsZJKVln7"
      },
      "source": [
        "# Bagging methods of KNN\r\n",
        "\r\n",
        "Technique = 'Bagging of KNN'\r\n",
        "Model = BaggingClassifier(KNeighborsClassifier(),max_samples=0.5, max_features=0.5)\r\n",
        "results = results.append(model_iteration(Model_name,Technique,Model,set_df))"
      ],
      "execution_count": null,
      "outputs": []
    },
    {
      "cell_type": "code",
      "metadata": {
        "id": "j5-IiOpIWOTP"
      },
      "source": [
        "# Neural Networks\r\n",
        "\r\n",
        "Technique = \"Neural networks\"\r\n",
        "Model = MLPClassifier(random_state=1, max_iter=3000)\r\n",
        "results = results.append(model_iteration(Model_name,Technique,Model,set_df))"
      ],
      "execution_count": null,
      "outputs": []
    },
    {
      "cell_type": "code",
      "metadata": {
        "id": "n8fFWgt8F_jF"
      },
      "source": [
        "# XGBoost\r\n",
        "\r\n",
        "Technique = \"RandomSearch XGBoost\"\r\n",
        "\r\n",
        "xgb = XGBClassifier(learning_rate=0.02, n_estimators=100, objective='binary:logistic',\r\n",
        "                    silent=False, nthread=4)\r\n",
        "\r\n",
        "skf = StratifiedKFold(n_splits=folds, shuffle = True, random_state = 1001)\r\n",
        "\r\n",
        "Model = RandomizedSearchCV(xgb, param_distributions=params,\r\n",
        "                                   n_iter=param_comb, scoring='neg_log_loss',\r\n",
        "                                   n_jobs=4, cv=skf.split(set_df[0],set_df[2]),\r\n",
        "                                   verbose=0, random_state=1901)\r\n",
        "\r\n",
        "results = results.append(model_iteration(Model_name,Technique,Model,set_df))"
      ],
      "execution_count": null,
      "outputs": []
    },
    {
      "cell_type": "markdown",
      "metadata": {
        "id": "x8K4oCv3WmO1"
      },
      "source": [
        "# Models without Midfield ratio"
      ]
    },
    {
      "cell_type": "code",
      "metadata": {
        "id": "rvpsi-3_W6n-"
      },
      "source": [
        "# X train without midfield rating exogenous variable\r\n",
        "Model_name = \"Without midfield\"\r\n",
        "X_train_no_mid, X_test_no_mid, Y_train, Y_test = train_test_split(X.loc[:,~X.columns.isin(['Midfield_ratio'])], Y, test_size=0.3, random_state=49)\r\n",
        "set_df = [X_train_no_mid, X_test_no_mid, Y_train, Y_test]"
      ],
      "execution_count": null,
      "outputs": []
    },
    {
      "cell_type": "code",
      "metadata": {
        "id": "ARoHvRwXWwGv"
      },
      "source": [
        "#First model with Logistic Regression without Midfield_ratio\r\n",
        "\r\n",
        "Technique = \"Logistic Regression\"\r\n",
        "Model = LogisticRegression(random_state=0,max_iter=10000)\r\n",
        "results = results.append(model_iteration(Model_name,Technique,Model,set_df))"
      ],
      "execution_count": null,
      "outputs": []
    },
    {
      "cell_type": "code",
      "metadata": {
        "id": "g0AgOdVZbxCT"
      },
      "source": [
        "# Tree model\r\n",
        "\r\n",
        "Technique = \"Decision Tree\"\r\n",
        "Model = DecisionTreeClassifier()\r\n",
        "results = results.append(model_iteration(Model_name,Technique,Model,set_df))"
      ],
      "execution_count": null,
      "outputs": []
    },
    {
      "cell_type": "code",
      "metadata": {
        "id": "e8vn74_kNM98"
      },
      "source": [
        "# Random Forest Model\r\n",
        "\r\n",
        "Technique = 'Random Forest. Depth = 2'\r\n",
        "Model = RandomForestClassifier(max_depth=2, random_state=0)\r\n",
        "results = results.append(model_iteration(Model_name,Technique,Model,set_df))"
      ],
      "execution_count": null,
      "outputs": []
    },
    {
      "cell_type": "code",
      "metadata": {
        "id": "sIdJhCIcNvEl"
      },
      "source": [
        "# Random Forest Model\r\n",
        "\r\n",
        "Technique = 'Random Forest. Depth = 3'\r\n",
        "Model = RandomForestClassifier(max_depth=3, random_state=0)\r\n",
        "results = results.append(model_iteration(Model_name,Technique,Model,set_df))"
      ],
      "execution_count": null,
      "outputs": []
    },
    {
      "cell_type": "code",
      "metadata": {
        "id": "kAGdahGTN3nO"
      },
      "source": [
        "# Bagging methods of KNN\r\n",
        "Technique = 'Bagging of KNN'\r\n",
        "Model = BaggingClassifier(KNeighborsClassifier(),max_samples=0.5, max_features=0.5)\r\n",
        "results = results.append(model_iteration(Model_name,Technique,Model,set_df))"
      ],
      "execution_count": null,
      "outputs": []
    },
    {
      "cell_type": "code",
      "metadata": {
        "id": "fu6T6vg9OPIB"
      },
      "source": [
        "# Neural Networks\r\n",
        "Technique = \"Neural Networks\"\r\n",
        "Model = MLPClassifier(random_state=1, max_iter=3000)\r\n",
        "results = results.append(model_iteration(Model_name,Technique,Model,set_df))"
      ],
      "execution_count": null,
      "outputs": []
    },
    {
      "cell_type": "code",
      "metadata": {
        "id": "PwEjv_-VysVy"
      },
      "source": [
        "Technique = \"RandomSearch XGBoost\"\r\n",
        "\r\n",
        "xgb = XGBClassifier(learning_rate=0.02, n_estimators=100, objective='binary:logistic',\r\n",
        "                    silent=False, nthread=4)\r\n",
        "\r\n",
        "skf = StratifiedKFold(n_splits=folds, shuffle = True, random_state = 1001)\r\n",
        "\r\n",
        "Model = RandomizedSearchCV(xgb, param_distributions=params,\r\n",
        "                                   n_iter=param_comb, scoring='neg_log_loss',\r\n",
        "                                   n_jobs=4, cv=skf.split(set_df[0],set_df[2]),\r\n",
        "                                   verbose=0, random_state=1901)\r\n",
        "\r\n",
        "results = results.append(model_iteration(Model_name,Technique,Model,set_df))"
      ],
      "execution_count": null,
      "outputs": []
    },
    {
      "cell_type": "markdown",
      "metadata": {
        "id": "CS0sh0aRN7Om"
      },
      "source": [
        "# What to do if I lost the midfield?"
      ]
    },
    {
      "cell_type": "code",
      "metadata": {
        "id": "zEFK4Mi_OaNh"
      },
      "source": [
        "#Subset of matches where the Home Team lost the midfield\r\n",
        "Model_name = \"Lost midfield\"\r\n",
        "X_lost_mid = X.loc[X['Midfield_ratio']<0.5,:]\r\n",
        "Y_lost_mid = Y.loc[X['Midfield_ratio']<0.5,]\r\n",
        "\r\n",
        "# Retrieve of train/test subsets\r\n",
        "set_df = [X_train_lost_mid, X_test_lost_mid, Y_train_lost_mid, Y_test_lost_mid]"
      ],
      "execution_count": null,
      "outputs": []
    },
    {
      "cell_type": "code",
      "metadata": {
        "id": "lL1PWAKhO52_"
      },
      "source": [
        "#First model with Logistic Regression with only Midfield_ratio\r\n",
        "\r\n",
        "Technique = \"Logistic Regression\"\r\n",
        "\r\n",
        "Model = LogisticRegression(random_state=0,max_iter=10000)\r\n",
        "results = results.append(model_iteration(Model_name,Technique,Model,set_df))"
      ],
      "execution_count": null,
      "outputs": []
    },
    {
      "cell_type": "code",
      "metadata": {
        "id": "BBdhX4_EcnqN"
      },
      "source": [
        "# Tree model\r\n",
        "\r\n",
        "Technique = 'Decision Tree'\r\n",
        "Model = DecisionTreeClassifier()\r\n",
        "results = results.append(model_iteration(Model_name,Technique,Model,set_df))"
      ],
      "execution_count": null,
      "outputs": []
    },
    {
      "cell_type": "code",
      "metadata": {
        "id": "2UrRwiDjP8Af"
      },
      "source": [
        "# Random Forest Model\r\n",
        "\r\n",
        "Technique = \"Random Forest. Depth = 2\"\r\n",
        "Model = RandomForestClassifier(max_depth=2, random_state=0)\r\n",
        "results = results.append(model_iteration(Model_name,Technique,Model,set_df))"
      ],
      "execution_count": null,
      "outputs": []
    },
    {
      "cell_type": "code",
      "metadata": {
        "id": "3vX_LPQTQKwk"
      },
      "source": [
        "# Random Forest Model\r\n",
        "\r\n",
        "Technique = \"Random Forest. Depth = 3\"\r\n",
        "Model = RandomForestClassifier(max_depth=3, random_state=0)\r\n",
        "results = results.append(model_iteration(Model_name,Technique,Model,set_df))"
      ],
      "execution_count": null,
      "outputs": []
    },
    {
      "cell_type": "code",
      "metadata": {
        "id": "f5HNmYRsQhkV"
      },
      "source": [
        "# Bagging methods of KNN\r\n",
        "\r\n",
        "Technique = \"Bagging of KNN\"\r\n",
        "Model = BaggingClassifier(KNeighborsClassifier(),max_samples=0.5, max_features=0.5)\r\n",
        "results = results.append(model_iteration(Model_name,Technique,Model,set_df))"
      ],
      "execution_count": null,
      "outputs": []
    },
    {
      "cell_type": "code",
      "metadata": {
        "id": "yeQdYJf1Qqac"
      },
      "source": [
        "# Neural Networks\r\n",
        "\r\n",
        "Technique = \"Neural Networks\"\r\n",
        "Model = MLPClassifier(random_state=1, max_iter=3000)\r\n",
        "results = results.append(model_iteration(Model_name,Technique,Model,set_df))"
      ],
      "execution_count": null,
      "outputs": []
    },
    {
      "cell_type": "code",
      "metadata": {
        "id": "3Ca_iPYYyx0P"
      },
      "source": [
        "# Random search XGB\r\n",
        "Technique = \"RandomSearch XGBoost\"\r\n",
        "\r\n",
        "xgb = XGBClassifier(learning_rate=0.02, n_estimators=100, objective='binary:logistic',\r\n",
        "                    silent=False, nthread=4)\r\n",
        "\r\n",
        "skf = StratifiedKFold(n_splits=folds, shuffle = True, random_state = 1001)\r\n",
        "\r\n",
        "Model = RandomizedSearchCV(xgb, param_distributions=params,\r\n",
        "                                   n_iter=param_comb, scoring='neg_log_loss',\r\n",
        "                                   n_jobs=4, cv=skf.split(set_df[0],set_df[2]),\r\n",
        "                                   verbose=0, random_state=1901)\r\n",
        "\r\n",
        "results = results.append(model_iteration(Model_name,Technique,Model,set_df))"
      ],
      "execution_count": null,
      "outputs": []
    },
    {
      "cell_type": "markdown",
      "metadata": {
        "id": "b-6YyG9tdSs2"
      },
      "source": [
        "# Deployment\r\n",
        "The deployment of the model is a presentation of the results in a blog, where this graphs and their interpretation are shown"
      ]
    },
    {
      "cell_type": "code",
      "metadata": {
        "colab": {
          "base_uri": "https://localhost:8080/",
          "height": 1000
        },
        "id": "Fa8uiTaMHSNk",
        "outputId": "c56d606c-b498-4a67-97eb-2d3bb434e7b3"
      },
      "source": [
        "results"
      ],
      "execution_count": null,
      "outputs": [
        {
          "output_type": "execute_result",
          "data": {
            "text/html": [
              "<div>\n",
              "<style scoped>\n",
              "    .dataframe tbody tr th:only-of-type {\n",
              "        vertical-align: middle;\n",
              "    }\n",
              "\n",
              "    .dataframe tbody tr th {\n",
              "        vertical-align: top;\n",
              "    }\n",
              "\n",
              "    .dataframe thead th {\n",
              "        text-align: right;\n",
              "    }\n",
              "</style>\n",
              "<table border=\"1\" class=\"dataframe\">\n",
              "  <thead>\n",
              "    <tr style=\"text-align: right;\">\n",
              "      <th></th>\n",
              "      <th>Model</th>\n",
              "      <th>Technique</th>\n",
              "      <th>AUC</th>\n",
              "      <th>Log_Loss</th>\n",
              "      <th>No_Accuracy</th>\n",
              "      <th>Influential_Feature</th>\n",
              "      <th>Method</th>\n",
              "      <th>Value</th>\n",
              "      <th>Time elapsed (sec)</th>\n",
              "      <th>Model Python</th>\n",
              "    </tr>\n",
              "  </thead>\n",
              "  <tbody>\n",
              "    <tr>\n",
              "      <th>0</th>\n",
              "      <td>Raw Variables</td>\n",
              "      <td>Logistic Regression</td>\n",
              "      <td>0.940324</td>\n",
              "      <td>0.316327</td>\n",
              "      <td>0.132890</td>\n",
              "      <td>Home_Tactic_Attack on wings</td>\n",
              "      <td>Coefficient</td>\n",
              "      <td>0.560929</td>\n",
              "      <td>1.068373</td>\n",
              "      <td>LogisticRegression(C=1.0, class_weight=None, d...</td>\n",
              "    </tr>\n",
              "    <tr>\n",
              "      <th>0</th>\n",
              "      <td>Raw Variables</td>\n",
              "      <td>Decision tree</td>\n",
              "      <td>0.812970</td>\n",
              "      <td>6.445020</td>\n",
              "      <td>0.186600</td>\n",
              "      <td>Away_Central_Defence</td>\n",
              "      <td>Feature Importance</td>\n",
              "      <td>0.234712</td>\n",
              "      <td>0.046005</td>\n",
              "      <td>DecisionTreeClassifier(ccp_alpha=0.0, class_we...</td>\n",
              "    </tr>\n",
              "    <tr>\n",
              "      <th>0</th>\n",
              "      <td>Raw Variables</td>\n",
              "      <td>Random Forest. Depth = 2</td>\n",
              "      <td>0.893881</td>\n",
              "      <td>0.405651</td>\n",
              "      <td>0.225360</td>\n",
              "      <td>Home_Central_Defence</td>\n",
              "      <td>Feature Importance</td>\n",
              "      <td>0.092432</td>\n",
              "      <td>0.261016</td>\n",
              "      <td>(DecisionTreeClassifier(ccp_alpha=0.0, class_w...</td>\n",
              "    </tr>\n",
              "    <tr>\n",
              "      <th>0</th>\n",
              "      <td>Raw Variables</td>\n",
              "      <td>Random Forest. Depth = 3</td>\n",
              "      <td>0.929735</td>\n",
              "      <td>0.369412</td>\n",
              "      <td>0.161683</td>\n",
              "      <td>Home_Central_Defence</td>\n",
              "      <td>Feature Importance</td>\n",
              "      <td>0.096111</td>\n",
              "      <td>0.306906</td>\n",
              "      <td>(DecisionTreeClassifier(ccp_alpha=0.0, class_w...</td>\n",
              "    </tr>\n",
              "    <tr>\n",
              "      <th>0</th>\n",
              "      <td>Raw Variables</td>\n",
              "      <td>Bagging of KNN</td>\n",
              "      <td>0.931234</td>\n",
              "      <td>0.315337</td>\n",
              "      <td>0.162791</td>\n",
              "      <td>None</td>\n",
              "      <td>does not apply</td>\n",
              "      <td>0.000000</td>\n",
              "      <td>0.074602</td>\n",
              "      <td>(KNeighborsClassifier(algorithm='auto', leaf_s...</td>\n",
              "    </tr>\n",
              "    <tr>\n",
              "      <th>0</th>\n",
              "      <td>Raw Variables</td>\n",
              "      <td>Neural networks</td>\n",
              "      <td>0.939440</td>\n",
              "      <td>0.320792</td>\n",
              "      <td>0.145072</td>\n",
              "      <td>None</td>\n",
              "      <td>does not apply</td>\n",
              "      <td>0.000000</td>\n",
              "      <td>2.761650</td>\n",
              "      <td>MLPClassifier(activation='relu', alpha=0.0001,...</td>\n",
              "    </tr>\n",
              "    <tr>\n",
              "      <th>0</th>\n",
              "      <td>Raw Variables</td>\n",
              "      <td>RandomSearch XGBoost</td>\n",
              "      <td>0.943958</td>\n",
              "      <td>0.325016</td>\n",
              "      <td>0.135105</td>\n",
              "      <td>Home_Central_Defence</td>\n",
              "      <td>Feature Importance</td>\n",
              "      <td>0.152409</td>\n",
              "      <td>71.747913</td>\n",
              "      <td>RandomizedSearchCV(cv=&lt;generator object _BaseK...</td>\n",
              "    </tr>\n",
              "    <tr>\n",
              "      <th>0</th>\n",
              "      <td>Generated features</td>\n",
              "      <td>Logistic regression</td>\n",
              "      <td>0.946624</td>\n",
              "      <td>0.284360</td>\n",
              "      <td>0.135105</td>\n",
              "      <td>Midfield_ratio</td>\n",
              "      <td>Coefficient</td>\n",
              "      <td>9.654363</td>\n",
              "      <td>0.337147</td>\n",
              "      <td>LogisticRegression(C=1.0, class_weight=None, d...</td>\n",
              "    </tr>\n",
              "    <tr>\n",
              "      <th>0</th>\n",
              "      <td>Generated features</td>\n",
              "      <td>Decision tree</td>\n",
              "      <td>0.812897</td>\n",
              "      <td>6.425903</td>\n",
              "      <td>0.186047</td>\n",
              "      <td>Midfield_ratio</td>\n",
              "      <td>Feature Importance</td>\n",
              "      <td>0.518953</td>\n",
              "      <td>0.052624</td>\n",
              "      <td>DecisionTreeClassifier(ccp_alpha=0.0, class_we...</td>\n",
              "    </tr>\n",
              "    <tr>\n",
              "      <th>0</th>\n",
              "      <td>Generated features</td>\n",
              "      <td>Random Forest. Depth = 2</td>\n",
              "      <td>0.944673</td>\n",
              "      <td>0.346445</td>\n",
              "      <td>0.136766</td>\n",
              "      <td>Central_Attack_vs_Defence</td>\n",
              "      <td>Feature Importance</td>\n",
              "      <td>0.199106</td>\n",
              "      <td>0.291816</td>\n",
              "      <td>(DecisionTreeClassifier(ccp_alpha=0.0, class_w...</td>\n",
              "    </tr>\n",
              "    <tr>\n",
              "      <th>0</th>\n",
              "      <td>Generated features</td>\n",
              "      <td>Random Forest. Depth = 3</td>\n",
              "      <td>0.946603</td>\n",
              "      <td>0.320027</td>\n",
              "      <td>0.137320</td>\n",
              "      <td>Central_Attack_vs_Defence</td>\n",
              "      <td>Feature Importance</td>\n",
              "      <td>0.201129</td>\n",
              "      <td>0.333814</td>\n",
              "      <td>(DecisionTreeClassifier(ccp_alpha=0.0, class_w...</td>\n",
              "    </tr>\n",
              "    <tr>\n",
              "      <th>0</th>\n",
              "      <td>Generated features</td>\n",
              "      <td>Bagging of KNN</td>\n",
              "      <td>0.937329</td>\n",
              "      <td>0.310304</td>\n",
              "      <td>0.158361</td>\n",
              "      <td>None</td>\n",
              "      <td>does not apply</td>\n",
              "      <td>0.000000</td>\n",
              "      <td>0.087413</td>\n",
              "      <td>(KNeighborsClassifier(algorithm='auto', leaf_s...</td>\n",
              "    </tr>\n",
              "    <tr>\n",
              "      <th>0</th>\n",
              "      <td>Generated features</td>\n",
              "      <td>Neural Networks</td>\n",
              "      <td>0.946005</td>\n",
              "      <td>0.283727</td>\n",
              "      <td>0.133444</td>\n",
              "      <td>None</td>\n",
              "      <td>does not apply</td>\n",
              "      <td>0.000000</td>\n",
              "      <td>2.283577</td>\n",
              "      <td>MLPClassifier(activation='relu', alpha=0.0001,...</td>\n",
              "    </tr>\n",
              "    <tr>\n",
              "      <th>0</th>\n",
              "      <td>Generated features</td>\n",
              "      <td>RandomSearch XGBoost</td>\n",
              "      <td>0.949433</td>\n",
              "      <td>0.311570</td>\n",
              "      <td>0.133998</td>\n",
              "      <td>Midfield_ratio</td>\n",
              "      <td>Feature Importance</td>\n",
              "      <td>0.509062</td>\n",
              "      <td>59.715020</td>\n",
              "      <td>RandomizedSearchCV(cv=&lt;generator object _BaseK...</td>\n",
              "    </tr>\n",
              "    <tr>\n",
              "      <th>0</th>\n",
              "      <td>Midfield ratio only</td>\n",
              "      <td>Logistic Regression</td>\n",
              "      <td>0.916884</td>\n",
              "      <td>0.359658</td>\n",
              "      <td>0.168882</td>\n",
              "      <td>Midfield_ratio</td>\n",
              "      <td>Coefficient</td>\n",
              "      <td>13.670568</td>\n",
              "      <td>0.014478</td>\n",
              "      <td>LogisticRegression(C=1.0, class_weight=None, d...</td>\n",
              "    </tr>\n",
              "    <tr>\n",
              "      <th>0</th>\n",
              "      <td>Midfield ratio only</td>\n",
              "      <td>Decision tree</td>\n",
              "      <td>0.875138</td>\n",
              "      <td>2.142483</td>\n",
              "      <td>0.184939</td>\n",
              "      <td>Midfield_ratio</td>\n",
              "      <td>Feature Importance</td>\n",
              "      <td>1.000000</td>\n",
              "      <td>0.005863</td>\n",
              "      <td>DecisionTreeClassifier(ccp_alpha=0.0, class_we...</td>\n",
              "    </tr>\n",
              "    <tr>\n",
              "      <th>0</th>\n",
              "      <td>Midfield ratio only</td>\n",
              "      <td>Random Forest. Depth = 2</td>\n",
              "      <td>0.913455</td>\n",
              "      <td>0.369259</td>\n",
              "      <td>0.169989</td>\n",
              "      <td>Midfield_ratio</td>\n",
              "      <td>Feature Importance</td>\n",
              "      <td>1.000000</td>\n",
              "      <td>0.224229</td>\n",
              "      <td>(DecisionTreeClassifier(ccp_alpha=0.0, class_w...</td>\n",
              "    </tr>\n",
              "    <tr>\n",
              "      <th>0</th>\n",
              "      <td>Midfield ratio only</td>\n",
              "      <td>Random Forest. Depth = 3</td>\n",
              "      <td>0.916465</td>\n",
              "      <td>0.360025</td>\n",
              "      <td>0.169989</td>\n",
              "      <td>Midfield_ratio</td>\n",
              "      <td>Feature Importance</td>\n",
              "      <td>1.000000</td>\n",
              "      <td>0.272594</td>\n",
              "      <td>(DecisionTreeClassifier(ccp_alpha=0.0, class_w...</td>\n",
              "    </tr>\n",
              "    <tr>\n",
              "      <th>0</th>\n",
              "      <td>Midfield ratio only</td>\n",
              "      <td>Bagging of KNN</td>\n",
              "      <td>0.908941</td>\n",
              "      <td>0.625262</td>\n",
              "      <td>0.171096</td>\n",
              "      <td>None</td>\n",
              "      <td>does not apply</td>\n",
              "      <td>0.000000</td>\n",
              "      <td>0.026967</td>\n",
              "      <td>(KNeighborsClassifier(algorithm='auto', leaf_s...</td>\n",
              "    </tr>\n",
              "    <tr>\n",
              "      <th>0</th>\n",
              "      <td>Midfield ratio only</td>\n",
              "      <td>Neural networks</td>\n",
              "      <td>0.916879</td>\n",
              "      <td>0.359606</td>\n",
              "      <td>0.168882</td>\n",
              "      <td>None</td>\n",
              "      <td>does not apply</td>\n",
              "      <td>0.000000</td>\n",
              "      <td>1.917697</td>\n",
              "      <td>MLPClassifier(activation='relu', alpha=0.0001,...</td>\n",
              "    </tr>\n",
              "    <tr>\n",
              "      <th>0</th>\n",
              "      <td>Midfield ratio only</td>\n",
              "      <td>RandomSearch XGBoost</td>\n",
              "      <td>0.916037</td>\n",
              "      <td>0.374962</td>\n",
              "      <td>0.168882</td>\n",
              "      <td>Midfield_ratio</td>\n",
              "      <td>Feature Importance</td>\n",
              "      <td>1.000000</td>\n",
              "      <td>22.145323</td>\n",
              "      <td>RandomizedSearchCV(cv=&lt;generator object _BaseK...</td>\n",
              "    </tr>\n",
              "    <tr>\n",
              "      <th>0</th>\n",
              "      <td>Without midfield</td>\n",
              "      <td>Logistic Regression</td>\n",
              "      <td>0.929989</td>\n",
              "      <td>0.316245</td>\n",
              "      <td>0.165006</td>\n",
              "      <td>Central_Attack_vs_Defence</td>\n",
              "      <td>Coefficient</td>\n",
              "      <td>4.943745</td>\n",
              "      <td>0.312546</td>\n",
              "      <td>LogisticRegression(C=1.0, class_weight=None, d...</td>\n",
              "    </tr>\n",
              "    <tr>\n",
              "      <th>0</th>\n",
              "      <td>Without midfield</td>\n",
              "      <td>Decision Tree</td>\n",
              "      <td>0.786173</td>\n",
              "      <td>7.343889</td>\n",
              "      <td>0.212625</td>\n",
              "      <td>Central_Attack_vs_Defence</td>\n",
              "      <td>Feature Importance</td>\n",
              "      <td>0.434296</td>\n",
              "      <td>0.038668</td>\n",
              "      <td>DecisionTreeClassifier(ccp_alpha=0.0, class_we...</td>\n",
              "    </tr>\n",
              "    <tr>\n",
              "      <th>0</th>\n",
              "      <td>Without midfield</td>\n",
              "      <td>Random Forest. Depth = 2</td>\n",
              "      <td>0.923483</td>\n",
              "      <td>0.393762</td>\n",
              "      <td>0.177187</td>\n",
              "      <td>Central_Attack_vs_Defence</td>\n",
              "      <td>Feature Importance</td>\n",
              "      <td>0.223728</td>\n",
              "      <td>0.268979</td>\n",
              "      <td>(DecisionTreeClassifier(ccp_alpha=0.0, class_w...</td>\n",
              "    </tr>\n",
              "    <tr>\n",
              "      <th>0</th>\n",
              "      <td>Without midfield</td>\n",
              "      <td>Random Forest. Depth = 3</td>\n",
              "      <td>0.927072</td>\n",
              "      <td>0.355340</td>\n",
              "      <td>0.163344</td>\n",
              "      <td>Central_Attack_vs_Defence</td>\n",
              "      <td>Feature Importance</td>\n",
              "      <td>0.230951</td>\n",
              "      <td>0.308760</td>\n",
              "      <td>(DecisionTreeClassifier(ccp_alpha=0.0, class_w...</td>\n",
              "    </tr>\n",
              "    <tr>\n",
              "      <th>0</th>\n",
              "      <td>Without midfield</td>\n",
              "      <td>Bagging of KNN</td>\n",
              "      <td>0.916342</td>\n",
              "      <td>0.343250</td>\n",
              "      <td>0.190476</td>\n",
              "      <td>None</td>\n",
              "      <td>does not apply</td>\n",
              "      <td>0.000000</td>\n",
              "      <td>0.072496</td>\n",
              "      <td>(KNeighborsClassifier(algorithm='auto', leaf_s...</td>\n",
              "    </tr>\n",
              "    <tr>\n",
              "      <th>0</th>\n",
              "      <td>Without midfield</td>\n",
              "      <td>Neural Networks</td>\n",
              "      <td>0.928550</td>\n",
              "      <td>0.318582</td>\n",
              "      <td>0.168882</td>\n",
              "      <td>None</td>\n",
              "      <td>does not apply</td>\n",
              "      <td>0.000000</td>\n",
              "      <td>1.809090</td>\n",
              "      <td>MLPClassifier(activation='relu', alpha=0.0001,...</td>\n",
              "    </tr>\n",
              "    <tr>\n",
              "      <th>0</th>\n",
              "      <td>Without midfield</td>\n",
              "      <td>RandomSearch XGBoost</td>\n",
              "      <td>0.927590</td>\n",
              "      <td>0.350664</td>\n",
              "      <td>0.171096</td>\n",
              "      <td>Central_Attack_vs_Defence</td>\n",
              "      <td>Feature Importance</td>\n",
              "      <td>0.324809</td>\n",
              "      <td>58.703129</td>\n",
              "      <td>RandomizedSearchCV(cv=&lt;generator object _BaseK...</td>\n",
              "    </tr>\n",
              "    <tr>\n",
              "      <th>0</th>\n",
              "      <td>Lost midfield</td>\n",
              "      <td>Logistic Regression</td>\n",
              "      <td>0.928023</td>\n",
              "      <td>0.162729</td>\n",
              "      <td>0.139241</td>\n",
              "      <td>Central_Defence_vs_Attack</td>\n",
              "      <td>Coefficient</td>\n",
              "      <td>2.492890</td>\n",
              "      <td>0.120740</td>\n",
              "      <td>LogisticRegression(C=1.0, class_weight=None, d...</td>\n",
              "    </tr>\n",
              "    <tr>\n",
              "      <th>0</th>\n",
              "      <td>Lost midfield</td>\n",
              "      <td>Decision Tree</td>\n",
              "      <td>0.586252</td>\n",
              "      <td>3.934843</td>\n",
              "      <td>0.113924</td>\n",
              "      <td>Indirect_Defence_vs_Attack</td>\n",
              "      <td>Feature Importance</td>\n",
              "      <td>0.211491</td>\n",
              "      <td>0.011065</td>\n",
              "      <td>DecisionTreeClassifier(ccp_alpha=0.0, class_we...</td>\n",
              "    </tr>\n",
              "    <tr>\n",
              "      <th>0</th>\n",
              "      <td>Lost midfield</td>\n",
              "      <td>Random Forest. Depth = 2</td>\n",
              "      <td>0.930496</td>\n",
              "      <td>0.167706</td>\n",
              "      <td>0.142405</td>\n",
              "      <td>Indirect_Defence_vs_Attack</td>\n",
              "      <td>Feature Importance</td>\n",
              "      <td>0.154307</td>\n",
              "      <td>0.207523</td>\n",
              "      <td>(DecisionTreeClassifier(ccp_alpha=0.0, class_w...</td>\n",
              "    </tr>\n",
              "    <tr>\n",
              "      <th>0</th>\n",
              "      <td>Lost midfield</td>\n",
              "      <td>Random Forest. Depth = 3</td>\n",
              "      <td>0.925696</td>\n",
              "      <td>0.162876</td>\n",
              "      <td>0.172468</td>\n",
              "      <td>Indirect_Defence_vs_Attack</td>\n",
              "      <td>Feature Importance</td>\n",
              "      <td>0.150692</td>\n",
              "      <td>0.198249</td>\n",
              "      <td>(DecisionTreeClassifier(ccp_alpha=0.0, class_w...</td>\n",
              "    </tr>\n",
              "    <tr>\n",
              "      <th>0</th>\n",
              "      <td>Lost midfield</td>\n",
              "      <td>Bagging of KNN</td>\n",
              "      <td>0.897254</td>\n",
              "      <td>0.220221</td>\n",
              "      <td>0.189873</td>\n",
              "      <td>None</td>\n",
              "      <td>does not apply</td>\n",
              "      <td>0.000000</td>\n",
              "      <td>0.029405</td>\n",
              "      <td>(KNeighborsClassifier(algorithm='auto', leaf_s...</td>\n",
              "    </tr>\n",
              "    <tr>\n",
              "      <th>0</th>\n",
              "      <td>Lost midfield</td>\n",
              "      <td>Neural Networks</td>\n",
              "      <td>0.919076</td>\n",
              "      <td>0.171583</td>\n",
              "      <td>0.137658</td>\n",
              "      <td>None</td>\n",
              "      <td>does not apply</td>\n",
              "      <td>0.000000</td>\n",
              "      <td>3.092101</td>\n",
              "      <td>MLPClassifier(activation='relu', alpha=0.0001,...</td>\n",
              "    </tr>\n",
              "    <tr>\n",
              "      <th>0</th>\n",
              "      <td>Lost midfield</td>\n",
              "      <td>RandomSearch XGBoost</td>\n",
              "      <td>0.924023</td>\n",
              "      <td>0.207659</td>\n",
              "      <td>0.140823</td>\n",
              "      <td>Indirect_Defence_vs_Attack</td>\n",
              "      <td>Feature Importance</td>\n",
              "      <td>0.144609</td>\n",
              "      <td>22.136033</td>\n",
              "      <td>RandomizedSearchCV(cv=&lt;generator object _BaseK...</td>\n",
              "    </tr>\n",
              "  </tbody>\n",
              "</table>\n",
              "</div>"
            ],
            "text/plain": [
              "                 Model  ...                                       Model Python\n",
              "0        Raw Variables  ...  LogisticRegression(C=1.0, class_weight=None, d...\n",
              "0        Raw Variables  ...  DecisionTreeClassifier(ccp_alpha=0.0, class_we...\n",
              "0        Raw Variables  ...  (DecisionTreeClassifier(ccp_alpha=0.0, class_w...\n",
              "0        Raw Variables  ...  (DecisionTreeClassifier(ccp_alpha=0.0, class_w...\n",
              "0        Raw Variables  ...  (KNeighborsClassifier(algorithm='auto', leaf_s...\n",
              "0        Raw Variables  ...  MLPClassifier(activation='relu', alpha=0.0001,...\n",
              "0        Raw Variables  ...  RandomizedSearchCV(cv=<generator object _BaseK...\n",
              "0   Generated features  ...  LogisticRegression(C=1.0, class_weight=None, d...\n",
              "0   Generated features  ...  DecisionTreeClassifier(ccp_alpha=0.0, class_we...\n",
              "0   Generated features  ...  (DecisionTreeClassifier(ccp_alpha=0.0, class_w...\n",
              "0   Generated features  ...  (DecisionTreeClassifier(ccp_alpha=0.0, class_w...\n",
              "0   Generated features  ...  (KNeighborsClassifier(algorithm='auto', leaf_s...\n",
              "0   Generated features  ...  MLPClassifier(activation='relu', alpha=0.0001,...\n",
              "0   Generated features  ...  RandomizedSearchCV(cv=<generator object _BaseK...\n",
              "0  Midfield ratio only  ...  LogisticRegression(C=1.0, class_weight=None, d...\n",
              "0  Midfield ratio only  ...  DecisionTreeClassifier(ccp_alpha=0.0, class_we...\n",
              "0  Midfield ratio only  ...  (DecisionTreeClassifier(ccp_alpha=0.0, class_w...\n",
              "0  Midfield ratio only  ...  (DecisionTreeClassifier(ccp_alpha=0.0, class_w...\n",
              "0  Midfield ratio only  ...  (KNeighborsClassifier(algorithm='auto', leaf_s...\n",
              "0  Midfield ratio only  ...  MLPClassifier(activation='relu', alpha=0.0001,...\n",
              "0  Midfield ratio only  ...  RandomizedSearchCV(cv=<generator object _BaseK...\n",
              "0     Without midfield  ...  LogisticRegression(C=1.0, class_weight=None, d...\n",
              "0     Without midfield  ...  DecisionTreeClassifier(ccp_alpha=0.0, class_we...\n",
              "0     Without midfield  ...  (DecisionTreeClassifier(ccp_alpha=0.0, class_w...\n",
              "0     Without midfield  ...  (DecisionTreeClassifier(ccp_alpha=0.0, class_w...\n",
              "0     Without midfield  ...  (KNeighborsClassifier(algorithm='auto', leaf_s...\n",
              "0     Without midfield  ...  MLPClassifier(activation='relu', alpha=0.0001,...\n",
              "0     Without midfield  ...  RandomizedSearchCV(cv=<generator object _BaseK...\n",
              "0        Lost midfield  ...  LogisticRegression(C=1.0, class_weight=None, d...\n",
              "0        Lost midfield  ...  DecisionTreeClassifier(ccp_alpha=0.0, class_we...\n",
              "0        Lost midfield  ...  (DecisionTreeClassifier(ccp_alpha=0.0, class_w...\n",
              "0        Lost midfield  ...  (DecisionTreeClassifier(ccp_alpha=0.0, class_w...\n",
              "0        Lost midfield  ...  (KNeighborsClassifier(algorithm='auto', leaf_s...\n",
              "0        Lost midfield  ...  MLPClassifier(activation='relu', alpha=0.0001,...\n",
              "0        Lost midfield  ...  RandomizedSearchCV(cv=<generator object _BaseK...\n",
              "\n",
              "[35 rows x 10 columns]"
            ]
          },
          "metadata": {
            "tags": []
          },
          "execution_count": 224
        }
      ]
    },
    {
      "cell_type": "code",
      "metadata": {
        "colab": {
          "base_uri": "https://localhost:8080/"
        },
        "id": "_AeRKHaGChP2",
        "outputId": "f293c8cb-dfe0-47e2-b6aa-3be5fb2d93f9"
      },
      "source": [
        "# Which model should be followed:\r\n",
        "results_1 = results.loc[(results['Model']=='Raw Variables') | (results['Model']=='Generated features'),:]\r\n",
        "model_to_follow = results_1.iloc[argmin(results_1['Log_Loss']),:]\r\n",
        "model_to_follow"
      ],
      "execution_count": null,
      "outputs": [
        {
          "output_type": "execute_result",
          "data": {
            "text/plain": [
              "Model                                                 Generated features\n",
              "Technique                                                Neural Networks\n",
              "AUC                                                             0.946005\n",
              "Log_Loss                                                        0.283727\n",
              "No_Accuracy                                                     0.133444\n",
              "Influential_Feature                                                 None\n",
              "Method                                                    does not apply\n",
              "Value                                                                  0\n",
              "Time elapsed (sec)                                               2.28358\n",
              "Model Python           MLPClassifier(activation='relu', alpha=0.0001,...\n",
              "Name: 0, dtype: object"
            ]
          },
          "metadata": {
            "tags": []
          },
          "execution_count": 225
        }
      ]
    },
    {
      "cell_type": "code",
      "metadata": {
        "colab": {
          "base_uri": "https://localhost:8080/"
        },
        "id": "xW_0LtlpDNIH",
        "outputId": "e0a1b92a-a712-4bd4-8591-174bcb5ea432"
      },
      "source": [
        "# Predictive power of Midfield\r\n",
        "results_1 = results.loc[(results['Model']=='Midfield ratio only'),:]\r\n",
        "model_midfield = results_1.iloc[argmin(results_1['Log_Loss']),:]\r\n",
        "model_midfield"
      ],
      "execution_count": null,
      "outputs": [
        {
          "output_type": "execute_result",
          "data": {
            "text/plain": [
              "Model                                                Midfield ratio only\n",
              "Technique                                                Neural networks\n",
              "AUC                                                             0.916879\n",
              "Log_Loss                                                        0.359606\n",
              "No_Accuracy                                                     0.168882\n",
              "Influential_Feature                                                 None\n",
              "Method                                                    does not apply\n",
              "Value                                                                  0\n",
              "Time elapsed (sec)                                                1.9177\n",
              "Model Python           MLPClassifier(activation='relu', alpha=0.0001,...\n",
              "Name: 0, dtype: object"
            ]
          },
          "metadata": {
            "tags": []
          },
          "execution_count": 226
        }
      ]
    },
    {
      "cell_type": "code",
      "metadata": {
        "colab": {
          "base_uri": "https://localhost:8080/"
        },
        "id": "y5spoinfHwOh",
        "outputId": "ad0022b4-9ade-4c93-c25f-d8ed71d21f8b"
      },
      "source": [
        "# Without midfield\r\n",
        "results_1 = results.loc[(results['Model']=='Without midfield'),:]\r\n",
        "model_no_midfield = results_1.iloc[argmin(results_1['Log_Loss']),:]\r\n",
        "model_no_midfield"
      ],
      "execution_count": null,
      "outputs": [
        {
          "output_type": "execute_result",
          "data": {
            "text/plain": [
              "Model                                                   Without midfield\n",
              "Technique                                            Logistic Regression\n",
              "AUC                                                             0.929989\n",
              "Log_Loss                                                        0.316245\n",
              "No_Accuracy                                                     0.165006\n",
              "Influential_Feature                            Central_Attack_vs_Defence\n",
              "Method                                                       Coefficient\n",
              "Value                                                            4.94374\n",
              "Time elapsed (sec)                                              0.312546\n",
              "Model Python           LogisticRegression(C=1.0, class_weight=None, d...\n",
              "Name: 0, dtype: object"
            ]
          },
          "metadata": {
            "tags": []
          },
          "execution_count": 227
        }
      ]
    },
    {
      "cell_type": "code",
      "metadata": {
        "colab": {
          "base_uri": "https://localhost:8080/"
        },
        "id": "LkESntVwH6um",
        "outputId": "69431ef7-56c9-40af-d359-7396b5126f82"
      },
      "source": [
        "# Lost midfield\r\n",
        "results_1 = results.loc[(results['Model']=='Lost midfield'),:]\r\n",
        "model_lost_midfield = results_1.iloc[argmin(results_1['Log_Loss']),:]\r\n",
        "model_lost_midfield"
      ],
      "execution_count": null,
      "outputs": [
        {
          "output_type": "execute_result",
          "data": {
            "text/plain": [
              "Model                                                      Lost midfield\n",
              "Technique                                            Logistic Regression\n",
              "AUC                                                             0.928023\n",
              "Log_Loss                                                        0.162729\n",
              "No_Accuracy                                                     0.139241\n",
              "Influential_Feature                            Central_Defence_vs_Attack\n",
              "Method                                                       Coefficient\n",
              "Value                                                            2.49289\n",
              "Time elapsed (sec)                                               0.12074\n",
              "Model Python           LogisticRegression(C=1.0, class_weight=None, d...\n",
              "Name: 0, dtype: object"
            ]
          },
          "metadata": {
            "tags": []
          },
          "execution_count": 228
        }
      ]
    },
    {
      "cell_type": "code",
      "metadata": {
        "id": "tXPkcfLLJf3d"
      },
      "source": [
        "# Calculated probability of a hypothetical case\r\n",
        "\r\n",
        "# Create an artificial dataset\r\n",
        "\r\n",
        "Midfield_ratio = np.linspace(0,1,50)\r\n",
        "\r\n",
        "X_art = pd.DataFrame({'Midfield_ratio': Midfield_ratio,\r\n",
        "                      'Central_Defence_vs_Attack': [X.Central_Defence_vs_Attack.mean()]*50,\r\n",
        "                      'Right_Defence_vs_Attack': [X.Right_Defence_vs_Attack.mean()]*50,\r\n",
        "                      'Left_Defence_vs_Attack': [X.Left_Defence_vs_Attack.mean()]*50,\r\n",
        "                      'Central_Attack_vs_Defence': [X.Central_Attack_vs_Defence.mean()]*50,\r\n",
        "                      'Right_Attack_vs_Defence': [X.Right_Attack_vs_Defence.mean()]*50,\r\n",
        "                      'Left_Attack_vs_Defence': [X.Left_Attack_vs_Defence.mean()]*50,\r\n",
        "                      'Indirect_Defence_vs_Attack': [X.Indirect_Defence_vs_Attack.mean()]*50,\r\n",
        "                      'Indirect_Attack_vs_Defence': [X.Indirect_Attack_vs_Defence.mean()]*50,\r\n",
        "                      'Home_Tactic_Level': [X.Home_Tactic_Level.mean()]*50,\r\n",
        "                      'Away_Tactic_Level': [X.Away_Tactic_Level.mean()]*50,\r\n",
        "                      'Home_Tactic_Attack in the Middle': [X['Home_Tactic_Attack in the Middle'].mean()]*50,\r\n",
        "                      'Home_Tactic_Attack on wings': [X['Home_Tactic_Attack on wings'].mean()]*50,\r\n",
        "                      'Home_Tactic_Counter-attacks': [X['Home_Tactic_Counter-attacks'].mean()]*50,\r\n",
        "                      'Home_Tactic_Long shots': [X['Home_Tactic_Long shots'].mean()]*50,\r\n",
        "                      'Home_Tactic_Normal': [X.Home_Tactic_Normal.mean()]*50,\r\n",
        "                      'Home_Tactic_Play creatively': [X['Home_Tactic_Play creatively'].mean()]*50,\r\n",
        "                      'Home_Tactic_Pressing': [X.Home_Tactic_Pressing.mean()]*50,\r\n",
        "                      'Away_Tactic_Attack in the Middle': [X['Away_Tactic_Attack in the Middle'].mean()]*50,\r\n",
        "                      'Away_Tactic_Attack on wings': [X['Away_Tactic_Attack on wings'].mean()]*50,\r\n",
        "                      'Away_Tactic_Counter-attacks': [X['Away_Tactic_Counter-attacks'].mean()]*50,\r\n",
        "                      'Away_Tactic_Long shots': [X['Away_Tactic_Long shots'].mean()]*50,\r\n",
        "                      'Away_Tactic_Normal': [X.Away_Tactic_Normal.mean()]*50,\r\n",
        "                      'Away_Tactic_Play creatively': [X['Away_Tactic_Play creatively'].mean()]*50,\r\n",
        "                      'Away_Tactic_Pressing': [X.Away_Tactic_Pressing.mean()]*50})\r\n",
        "\r\n",
        "P=model_to_follow['Model Python'].predict_proba(X_art)[:,1]\r\n",
        "\r\n",
        "mf_only = pd.DataFrame({'x': Midfield_ratio, 'y': P})"
      ],
      "execution_count": null,
      "outputs": []
    },
    {
      "cell_type": "code",
      "metadata": {
        "colab": {
          "base_uri": "https://localhost:8080/",
          "height": 265
        },
        "id": "ovH6khU8px7m",
        "outputId": "63894d2a-4b6a-40b5-fa5b-c41b5b944c16"
      },
      "source": [
        "show(plot(mf_only.x,mf_only.y))"
      ],
      "execution_count": null,
      "outputs": [
        {
          "output_type": "display_data",
          "data": {
            "image/png": "[encoded data removed]",
            "text/plain": [
              "<Figure size 432x288 with 1 Axes>"
            ]
          },
          "metadata": {
            "tags": [],
            "needs_background": "light"
          }
        }
      ]
    },
    {
      "cell_type": "code",
      "metadata": {
        "colab": {
          "base_uri": "https://localhost:8080/",
          "height": 466
        },
        "id": "zGnrWYXvs_jH",
        "outputId": "d0dce547-4e9f-4c96-8902-1512b07997db"
      },
      "source": [
        "# How much of the odds depend solely on the midfield rating comparison (ratio)?\r\n",
        "# In other words: How much do I control of the match's odds by controlling the midfield only?\r\n",
        "\r\n",
        "Model_name = 'Midfield ratio only'\r\n",
        "X_train, X_test, Y_train, Y_test = train_test_split(X['Midfield_ratio'], Y, test_size=0.3, random_state=49)\r\n",
        "set_df = [X_train, X_test, Y_train, Y_test]\r\n",
        "\r\n",
        "metrics.plot_roc_curve(model_midfield['Model Python'], X_test.values.reshape(-1,1), Y_test)\r\n",
        "\r\n",
        "model_midfield"
      ],
      "execution_count": null,
      "outputs": [
        {
          "output_type": "execute_result",
          "data": {
            "text/plain": [
              "Model                                                Midfield ratio only\n",
              "Technique                                                Neural networks\n",
              "AUC                                                             0.916879\n",
              "Log_Loss                                                        0.359606\n",
              "No_Accuracy                                                     0.168882\n",
              "Influential_Feature                                                 None\n",
              "Method                                                    does not apply\n",
              "Value                                                                  0\n",
              "Time elapsed (sec)                                                1.9177\n",
              "Model Python           MLPClassifier(activation='relu', alpha=0.0001,...\n",
              "Name: 0, dtype: object"
            ]
          },
          "metadata": {
            "tags": []
          },
          "execution_count": 231
        },
        {
          "output_type": "display_data",
          "data": {
            "image/png": "[encoded data removed]",
            "text/plain": [
              "<Figure size 432x288 with 1 Axes>"
            ]
          },
          "metadata": {
            "tags": [],
            "needs_background": "light"
          }
        }
      ]
    },
    {
      "cell_type": "code",
      "metadata": {
        "colab": {
          "base_uri": "https://localhost:8080/",
          "height": 466
        },
        "id": "lbPkQbxJuqS7",
        "outputId": "2eb174f6-b1bb-4064-f643-cc54a5419bca"
      },
      "source": [
        "Model_name = 'Without midfield'\r\n",
        "X_train, X_test, Y_train, Y_test = train_test_split(X.loc[:,~X.columns.isin(['Midfield_ratio'])], Y, test_size=0.3, random_state=49)\r\n",
        "set_df = [X_train, X_test, Y_train, Y_test]\r\n",
        "\r\n",
        "metrics.plot_roc_curve(model_no_midfield['Model Python'], X_test, Y_test)\r\n",
        "model_no_midfield"
      ],
      "execution_count": null,
      "outputs": [
        {
          "output_type": "execute_result",
          "data": {
            "text/plain": [
              "Model                                                   Without midfield\n",
              "Technique                                            Logistic Regression\n",
              "AUC                                                             0.929989\n",
              "Log_Loss                                                        0.316245\n",
              "No_Accuracy                                                     0.165006\n",
              "Influential_Feature                            Central_Attack_vs_Defence\n",
              "Method                                                       Coefficient\n",
              "Value                                                            4.94374\n",
              "Time elapsed (sec)                                              0.312546\n",
              "Model Python           LogisticRegression(C=1.0, class_weight=None, d...\n",
              "Name: 0, dtype: object"
            ]
          },
          "metadata": {
            "tags": []
          },
          "execution_count": 232
        },
        {
          "output_type": "display_data",
          "data": {
            "image/png": "[encoded data removed]",
            "text/plain": [
              "<Figure size 432x288 with 1 Axes>"
            ]
          },
          "metadata": {
            "tags": [],
            "needs_background": "light"
          }
        }
      ]
    },
    {
      "cell_type": "code",
      "metadata": {
        "colab": {
          "base_uri": "https://localhost:8080/",
          "height": 466
        },
        "id": "lEOzXD9o2jPD",
        "outputId": "18215fe8-382e-4200-caa4-e74d4090747c"
      },
      "source": [
        "Model_name = 'Lost midfield'\r\n",
        "X_lost_mid = X.loc[X['Midfield_ratio']<0.5,:]\r\n",
        "Y_lost_mid = Y.loc[X['Midfield_ratio']<0.5,]\r\n",
        "\r\n",
        "metrics.plot_roc_curve(model_lost_midfield['Model Python'], X_lost_mid, Y_lost_mid)\r\n",
        "model_lost_midfield"
      ],
      "execution_count": null,
      "outputs": [
        {
          "output_type": "execute_result",
          "data": {
            "text/plain": [
              "Model                                                      Lost midfield\n",
              "Technique                                            Logistic Regression\n",
              "AUC                                                             0.928023\n",
              "Log_Loss                                                        0.162729\n",
              "No_Accuracy                                                     0.139241\n",
              "Influential_Feature                            Central_Defence_vs_Attack\n",
              "Method                                                       Coefficient\n",
              "Value                                                            2.49289\n",
              "Time elapsed (sec)                                               0.12074\n",
              "Model Python           LogisticRegression(C=1.0, class_weight=None, d...\n",
              "Name: 0, dtype: object"
            ]
          },
          "metadata": {
            "tags": []
          },
          "execution_count": 239
        },
        {
          "output_type": "display_data",
          "data": {
            "image/png": "[encoded data removed]",
            "text/plain": [
              "<Figure size 432x288 with 1 Axes>"
            ]
          },
          "metadata": {
            "tags": [],
            "needs_background": "light"
          }
        }
      ]
    },
    {
      "cell_type": "code",
      "metadata": {
        "id": "StR17RRd7_Tc"
      },
      "source": [
        "# Is midfield still important even when is lost?\r\n",
        "\r\n",
        "Midfield_ratio = np.linspace(0,0.5,50)\r\n",
        "\r\n",
        "X_art = pd.DataFrame({'Midfield_ratio': Midfield_ratio,\r\n",
        "                      'Central_Defence_vs_Attack': [X.Central_Defence_vs_Attack.mean()]*50,\r\n",
        "                      'Right_Defence_vs_Attack': [X.Right_Defence_vs_Attack.mean()]*50,\r\n",
        "                      'Left_Defence_vs_Attack': [X.Left_Defence_vs_Attack.mean()]*50,\r\n",
        "                      'Central_Attack_vs_Defence': [X.Central_Attack_vs_Defence.mean()]*50,\r\n",
        "                      'Right_Attack_vs_Defence': [X.Right_Attack_vs_Defence.mean()]*50,\r\n",
        "                      'Left_Attack_vs_Defence': [X.Left_Attack_vs_Defence.mean()]*50,\r\n",
        "                      'Indirect_Defence_vs_Attack': [X.Indirect_Defence_vs_Attack.mean()]*50,\r\n",
        "                      'Indirect_Attack_vs_Defence': [X.Indirect_Attack_vs_Defence.mean()]*50,\r\n",
        "                      'Home_Tactic_Level': [X.Home_Tactic_Level.mean()]*50,\r\n",
        "                      'Away_Tactic_Level': [X.Away_Tactic_Level.mean()]*50,\r\n",
        "                      'Home_Tactic_Attack in the Middle': [X['Home_Tactic_Attack in the Middle'].mean()]*50,\r\n",
        "                      'Home_Tactic_Attack on wings': [X['Home_Tactic_Attack on wings'].mean()]*50,\r\n",
        "                      'Home_Tactic_Counter-attacks': [X['Home_Tactic_Counter-attacks'].mean()]*50,\r\n",
        "                      'Home_Tactic_Long shots': [X['Home_Tactic_Long shots'].mean()]*50,\r\n",
        "                      'Home_Tactic_Normal': [X.Home_Tactic_Normal.mean()]*50,\r\n",
        "                      'Home_Tactic_Play creatively': [X['Home_Tactic_Play creatively'].mean()]*50,\r\n",
        "                      'Home_Tactic_Pressing': [X.Home_Tactic_Pressing.mean()]*50,\r\n",
        "                      'Away_Tactic_Attack in the Middle': [X['Away_Tactic_Attack in the Middle'].mean()]*50,\r\n",
        "                      'Away_Tactic_Attack on wings': [X['Away_Tactic_Attack on wings'].mean()]*50,\r\n",
        "                      'Away_Tactic_Counter-attacks': [X['Away_Tactic_Counter-attacks'].mean()]*50,\r\n",
        "                      'Away_Tactic_Long shots': [X['Away_Tactic_Long shots'].mean()]*50,\r\n",
        "                      'Away_Tactic_Normal': [X.Away_Tactic_Normal.mean()]*50,\r\n",
        "                      'Away_Tactic_Play creatively': [X['Away_Tactic_Play creatively'].mean()]*50,\r\n",
        "                      'Away_Tactic_Pressing': [X.Away_Tactic_Pressing.mean()]*50})\r\n",
        "\r\n",
        "P=model_lost_midfield['Model Python'].predict_proba(X_art)[:,1]\r\n",
        "\r\n",
        "mf_lost = pd.DataFrame({'x': Midfield_ratio, 'y': P})"
      ],
      "execution_count": null,
      "outputs": []
    },
    {
      "cell_type": "code",
      "metadata": {
        "id": "7HBT1iHb_ybU"
      },
      "source": [
        "# What if... Midfield lost + Central Defence won\r\n",
        "\r\n",
        "Midfield_ratio = np.linspace(0,0.5,50)\r\n",
        "\r\n",
        "X_art = pd.DataFrame({'Midfield_ratio': Midfield_ratio,\r\n",
        "                      'Central_Defence_vs_Attack': [X.Central_Defence_vs_Attack.quantile(q=0.75)]*50,\r\n",
        "                      'Right_Defence_vs_Attack': [X.Right_Defence_vs_Attack.mean()]*50,\r\n",
        "                      'Left_Defence_vs_Attack': [X.Left_Defence_vs_Attack.mean()]*50,\r\n",
        "                      'Central_Attack_vs_Defence': [X.Central_Attack_vs_Defence.mean()]*50,\r\n",
        "                      'Right_Attack_vs_Defence': [X.Right_Attack_vs_Defence.mean()]*50,\r\n",
        "                      'Left_Attack_vs_Defence': [X.Left_Attack_vs_Defence.mean()]*50,\r\n",
        "                      'Indirect_Defence_vs_Attack': [X.Indirect_Defence_vs_Attack.mean()]*50,\r\n",
        "                      'Indirect_Attack_vs_Defence': [X.Indirect_Attack_vs_Defence.mean()]*50,\r\n",
        "                      'Home_Tactic_Level': [X.Home_Tactic_Level.mean()]*50,\r\n",
        "                      'Away_Tactic_Level': [X.Away_Tactic_Level.mean()]*50,\r\n",
        "                      'Home_Tactic_Attack in the Middle': [X['Home_Tactic_Attack in the Middle'].mean()]*50,\r\n",
        "                      'Home_Tactic_Attack on wings': [X['Home_Tactic_Attack on wings'].mean()]*50,\r\n",
        "                      'Home_Tactic_Counter-attacks': [X['Home_Tactic_Counter-attacks'].mean()]*50,\r\n",
        "                      'Home_Tactic_Long shots': [X['Home_Tactic_Long shots'].mean()]*50,\r\n",
        "                      'Home_Tactic_Normal': [X.Home_Tactic_Normal.mean()]*50,\r\n",
        "                      'Home_Tactic_Play creatively': [X['Home_Tactic_Play creatively'].mean()]*50,\r\n",
        "                      'Home_Tactic_Pressing': [X.Home_Tactic_Pressing.mean()]*50,\r\n",
        "                      'Away_Tactic_Attack in the Middle': [X['Away_Tactic_Attack in the Middle'].mean()]*50,\r\n",
        "                      'Away_Tactic_Attack on wings': [X['Away_Tactic_Attack on wings'].mean()]*50,\r\n",
        "                      'Away_Tactic_Counter-attacks': [X['Away_Tactic_Counter-attacks'].mean()]*50,\r\n",
        "                      'Away_Tactic_Long shots': [X['Away_Tactic_Long shots'].mean()]*50,\r\n",
        "                      'Away_Tactic_Normal': [X.Away_Tactic_Normal.mean()]*50,\r\n",
        "                      'Away_Tactic_Play creatively': [X['Away_Tactic_Play creatively'].mean()]*50,\r\n",
        "                      'Away_Tactic_Pressing': [X.Away_Tactic_Pressing.mean()]*50})\r\n",
        "\r\n",
        "P=model_lost_midfield['Model Python'].predict_proba(X_art)[:,1]\r\n",
        "\r\n",
        "mf_lost = pd.DataFrame({'x': Midfield_ratio, 'y': P})"
      ],
      "execution_count": null,
      "outputs": []
    },
    {
      "cell_type": "code",
      "metadata": {
        "colab": {
          "base_uri": "https://localhost:8080/",
          "height": 269
        },
        "id": "hfvUSulK-Eyz",
        "outputId": "e1757d69-11bc-406d-c6e0-e32255fde9a4"
      },
      "source": [
        "show(plot(mf_lost.x,mf_lost.y))"
      ],
      "execution_count": null,
      "outputs": [
        {
          "output_type": "display_data",
          "data": {
            "image/png": "[encoded data removed]",
            "text/plain": [
              "<Figure size 432x288 with 1 Axes>"
            ]
          },
          "metadata": {
            "tags": [],
            "needs_background": "light"
          }
        }
      ]
    },
    {
      "cell_type": "code",
      "metadata": {
        "id": "UVuy4O1GWXuh"
      },
      "source": [
        "https://github.com/juanes8400/ht_matches_2"
      ],
      "execution_count": null,
      "outputs": []
    }
  ]
}